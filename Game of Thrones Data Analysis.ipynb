{
 "cells": [
  {
   "cell_type": "code",
   "execution_count": 1,
   "metadata": {},
   "outputs": [],
   "source": [
    "import pandas as pd\n",
    "import numpy as np"
   ]
  },
  {
   "cell_type": "code",
   "execution_count": 2,
   "metadata": {},
   "outputs": [],
   "source": [
    "df = pd.read_json('data/script-bag-of-words.json')"
   ]
  },
  {
   "cell_type": "code",
   "execution_count": 3,
   "metadata": {},
   "outputs": [
    {
     "data": {
      "text/plain": [
       "(73, 5)"
      ]
     },
     "execution_count": 3,
     "metadata": {},
     "output_type": "execute_result"
    }
   ],
   "source": [
    "df.shape"
   ]
  },
  {
   "cell_type": "code",
   "execution_count": 4,
   "metadata": {},
   "outputs": [
    {
     "data": {
      "text/html": [
       "<div>\n",
       "<style scoped>\n",
       "    .dataframe tbody tr th:only-of-type {\n",
       "        vertical-align: middle;\n",
       "    }\n",
       "\n",
       "    .dataframe tbody tr th {\n",
       "        vertical-align: top;\n",
       "    }\n",
       "\n",
       "    .dataframe thead th {\n",
       "        text-align: right;\n",
       "    }\n",
       "</style>\n",
       "<table border=\"1\" class=\"dataframe\">\n",
       "  <thead>\n",
       "    <tr style=\"text-align: right;\">\n",
       "      <th></th>\n",
       "      <th>episodeAlt</th>\n",
       "      <th>seasonNum</th>\n",
       "      <th>episodeNum</th>\n",
       "      <th>episodeTitle</th>\n",
       "      <th>text</th>\n",
       "    </tr>\n",
       "  </thead>\n",
       "  <tbody>\n",
       "    <tr>\n",
       "      <th>0</th>\n",
       "      <td>S1E1</td>\n",
       "      <td>1</td>\n",
       "      <td>1</td>\n",
       "      <td>Winter Is Coming</td>\n",
       "      <td>[{'text': 'Easy, boy.', 'name': 'Will'}, {'tex...</td>\n",
       "    </tr>\n",
       "    <tr>\n",
       "      <th>1</th>\n",
       "      <td>S1E2</td>\n",
       "      <td>1</td>\n",
       "      <td>2</td>\n",
       "      <td>The Kingsroad</td>\n",
       "      <td>[{'text': 'And You child... drink, eat. need t...</td>\n",
       "    </tr>\n",
       "    <tr>\n",
       "      <th>2</th>\n",
       "      <td>S1E3</td>\n",
       "      <td>1</td>\n",
       "      <td>3</td>\n",
       "      <td>Lord Snow</td>\n",
       "      <td>[{'text': 'Council. Grand Lord Maester Pycelle...</td>\n",
       "    </tr>\n",
       "    <tr>\n",
       "      <th>3</th>\n",
       "      <td>S1E4</td>\n",
       "      <td>1</td>\n",
       "      <td>4</td>\n",
       "      <td>Cripples, Bastards, and Broken Things</td>\n",
       "      <td>[{'text': 'Lord's The again. been dreaming lit...</td>\n",
       "    </tr>\n",
       "    <tr>\n",
       "      <th>4</th>\n",
       "      <td>S1E5</td>\n",
       "      <td>1</td>\n",
       "      <td>5</td>\n",
       "      <td>The Wolf and the Lion</td>\n",
       "      <td>[{'text': 'Does Hugh Ser any capital? family h...</td>\n",
       "    </tr>\n",
       "  </tbody>\n",
       "</table>\n",
       "</div>"
      ],
      "text/plain": [
       "  episodeAlt  seasonNum  episodeNum                           episodeTitle  \\\n",
       "0       S1E1          1           1                       Winter Is Coming   \n",
       "1       S1E2          1           2                          The Kingsroad   \n",
       "2       S1E3          1           3                              Lord Snow   \n",
       "3       S1E4          1           4  Cripples, Bastards, and Broken Things   \n",
       "4       S1E5          1           5                  The Wolf and the Lion   \n",
       "\n",
       "                                                text  \n",
       "0  [{'text': 'Easy, boy.', 'name': 'Will'}, {'tex...  \n",
       "1  [{'text': 'And You child... drink, eat. need t...  \n",
       "2  [{'text': 'Council. Grand Lord Maester Pycelle...  \n",
       "3  [{'text': 'Lord's The again. been dreaming lit...  \n",
       "4  [{'text': 'Does Hugh Ser any capital? family h...  "
      ]
     },
     "execution_count": 4,
     "metadata": {},
     "output_type": "execute_result"
    }
   ],
   "source": [
    "df.head()"
   ]
  },
  {
   "cell_type": "code",
   "execution_count": 5,
   "metadata": {},
   "outputs": [
    {
     "data": {
      "text/html": [
       "<div>\n",
       "<style scoped>\n",
       "    .dataframe tbody tr th:only-of-type {\n",
       "        vertical-align: middle;\n",
       "    }\n",
       "\n",
       "    .dataframe tbody tr th {\n",
       "        vertical-align: top;\n",
       "    }\n",
       "\n",
       "    .dataframe thead th {\n",
       "        text-align: right;\n",
       "    }\n",
       "</style>\n",
       "<table border=\"1\" class=\"dataframe\">\n",
       "  <thead>\n",
       "    <tr style=\"text-align: right;\">\n",
       "      <th></th>\n",
       "      <th>episodeAlt</th>\n",
       "      <th>seasonNum</th>\n",
       "      <th>episodeNum</th>\n",
       "      <th>episodeTitle</th>\n",
       "      <th>text</th>\n",
       "    </tr>\n",
       "  </thead>\n",
       "  <tbody>\n",
       "    <tr>\n",
       "      <th>68</th>\n",
       "      <td>S8E2</td>\n",
       "      <td>8</td>\n",
       "      <td>2</td>\n",
       "      <td>A Knight of the Seven Kingdoms</td>\n",
       "      <td>[{'name': 'Daenerys Targaryen', 'text': 'About...</td>\n",
       "    </tr>\n",
       "    <tr>\n",
       "      <th>69</th>\n",
       "      <td>S8E3</td>\n",
       "      <td>8</td>\n",
       "      <td>3</td>\n",
       "      <td>The Long Night</td>\n",
       "      <td>[{'name': 'Northman #1', 'text': 'Oi!'}, {'nam...</td>\n",
       "    </tr>\n",
       "    <tr>\n",
       "      <th>70</th>\n",
       "      <td>S8E4</td>\n",
       "      <td>8</td>\n",
       "      <td>4</td>\n",
       "      <td>The Last of the Starks</td>\n",
       "      <td>[{'name': 'Jon Snow', 'text': 'And Everyone It...</td>\n",
       "    </tr>\n",
       "    <tr>\n",
       "      <th>71</th>\n",
       "      <td>S8E5</td>\n",
       "      <td>8</td>\n",
       "      <td>5</td>\n",
       "      <td>The Bells</td>\n",
       "      <td>[{'name': 'Lord Varys', 'text': 'And? Come Not...</td>\n",
       "    </tr>\n",
       "    <tr>\n",
       "      <th>72</th>\n",
       "      <td>S8E6</td>\n",
       "      <td>8</td>\n",
       "      <td>6</td>\n",
       "      <td>The Iron Throne</td>\n",
       "      <td>[{'name': 'Tyrion Lannister', 'text': 'I'll fi...</td>\n",
       "    </tr>\n",
       "  </tbody>\n",
       "</table>\n",
       "</div>"
      ],
      "text/plain": [
       "   episodeAlt  seasonNum  episodeNum                    episodeTitle  \\\n",
       "68       S8E2          8           2  A Knight of the Seven Kingdoms   \n",
       "69       S8E3          8           3                  The Long Night   \n",
       "70       S8E4          8           4          The Last of the Starks   \n",
       "71       S8E5          8           5                       The Bells   \n",
       "72       S8E6          8           6                 The Iron Throne   \n",
       "\n",
       "                                                 text  \n",
       "68  [{'name': 'Daenerys Targaryen', 'text': 'About...  \n",
       "69  [{'name': 'Northman #1', 'text': 'Oi!'}, {'nam...  \n",
       "70  [{'name': 'Jon Snow', 'text': 'And Everyone It...  \n",
       "71  [{'name': 'Lord Varys', 'text': 'And? Come Not...  \n",
       "72  [{'name': 'Tyrion Lannister', 'text': 'I'll fi...  "
      ]
     },
     "execution_count": 5,
     "metadata": {},
     "output_type": "execute_result"
    }
   ],
   "source": [
    "df.tail()"
   ]
  },
  {
   "cell_type": "code",
   "execution_count": 8,
   "metadata": {},
   "outputs": [
    {
     "data": {
      "text/plain": [
       "[{'name': 'Tyrion Lannister', 'text': \"I'll find later. you\"},\n",
       " {'name': 'Jon Snow', 'text': \"It's Let me men not safe. send some with you.\"},\n",
       " {'name': 'Tyrion Lannister', 'text': \"I'm alone. going\"},\n",
       " {'name': 'Grey Worm',\n",
       "  'text': 'Daenerys I In Queen, Targaryen, die. name of one sentence the the to true you'},\n",
       " {'name': 'Jon Snow',\n",
       "  'text': \"Grey It's These Worm! are men over. prisoners.\"},\n",
       " {'name': 'Grey Worm',\n",
       "  'text': \"It Queen's are defeated. enemies is not over the until\"},\n",
       " {'name': 'Davos Seaworth',\n",
       "  'text': \"How They're be? defeated do knees. more much on their them to want you\"},\n",
       " {'name': 'Grey Worm', 'text': 'They are breathing.'},\n",
       " {'name': 'Davos Seaworth', 'text': 'Look We around friend. won. you,'},\n",
       " {'name': 'Grey Worm', 'text': \"I commands, my not obey queen's yours.\"},\n",
       " {'name': 'Jon Snow', 'text': \"And Queen's are commands? the what\"},\n",
       " {'name': 'Grey Worm',\n",
       "  'text': '\"Kill Cersei Lannister.\" These They all are chose fight follow for free her. men. to who'},\n",
       " {'name': 'Davos Seaworth',\n",
       "  'text': 'Easy! Easy, Easy. Jon. Queen. We men. should speak the with'},\n",
       " {'name': 'Dothraki Bloodrider #1', 'text': 'Hyah!'},\n",
       " {'lang': 'Dothraki',\n",
       "  'name': 'Daenerys Targaryen',\n",
       "  'translation': 'Blood Kingdoms! Seven You You You You all blood. down enemies gave houses. in iron kept killed me me. my my of promises stone suits. the their their to tore your',\n",
       "  'text': ''},\n",
       " {'lang': 'High Valyrian',\n",
       "  'name': 'Daenerys Targaryen',\n",
       "  'translation': \"Grey I Master Plaza Pride. Queen's War. Worm. You You all are beside bravest commander forces, have loyal me men, most my name of of of of of since soldiers. the the the the walked you\",\n",
       "  'text': ''},\n",
       " {'lang': 'High Valyrian',\n",
       "  'name': 'Daenerys Targaryen',\n",
       "  'translation': \"All But Dorne, From Isles Jade King's Landing Lannisport Now... Qarth, Sea! Summer Unsullied. We Will Winterfell Women, You a all and and are arms as beneath break children down freed from from from from grip have have have is lay liberated liberators! long me? men mothers' not not of of of of our over. people people raised slaves. spears suffered the the the the the the the the the to to to too torn tyrant! until war we were wheel wheel. will with world! you you you your\",\n",
       "  'text': ''},\n",
       " {'name': 'Daenerys Targaryen',\n",
       "  'text': 'You You brother. committed freed treason. your'},\n",
       " {'name': 'Tyrion Lannister',\n",
       "  'text': 'And I a brother. city. freed my slaughtered you'},\n",
       " {'lang': 'High Valyrian',\n",
       "  'name': 'Daenerys Targaryen',\n",
       "  'translation': 'Take him.',\n",
       "  'text': ''},\n",
       " {'name': 'Jon Snow', 'text': 'Hey, What are doing happened? here? what you'},\n",
       " {'name': 'Arya Stark',\n",
       "  'text': 'Cersei. I Your came first. got kill queen there to'},\n",
       " {'name': 'Jon Snow', 'text': \"She's everyone's now. queen\"},\n",
       " {'name': 'Arya Stark', 'text': 'Sansa. Try telling'},\n",
       " {'name': 'Jon Snow',\n",
       "  'text': \"I'll Wait city come find for gates. me outside the you.\"},\n",
       " {'name': 'Arya Stark',\n",
       "  'text': \"And I I Jon. She Who You'll a a always are. are. be her. killer know knows one. really see threat to when who you you\"},\n",
       " {'name': 'Tyrion Lannister', 'text': 'Did any bring wine? you'},\n",
       " {'name': 'Jon Snow', 'text': 'No.'},\n",
       " {'name': 'Tyrion Lannister',\n",
       "  'text': '\"See, Ah... I I I I\\'m I\\'m It Now Our So Varys\\'s Well... a after alive and ashes ashes: betrayed burn. can closest coming crude death? doesn\\'t for for friend going. him is just justice. keep kind knows life long. man me. me. my my occurred of only prisoners queen see suppose talking tell thank the there there\\'s to to to told watched where who you you.\"'},\n",
       " {'name': 'Jon Snow', 'text': \"I've Not seen. that\"},\n",
       " {'name': 'Tyrion Lannister',\n",
       "  'text': 'I I I I I Oblivion a be best betrayed could crossbow. father for. hope is lover. my my my own queen. shot should strangled thankful. the with'},\n",
       " {'name': 'Jon Snow', 'text': \"You didn't.\"},\n",
       " {'name': 'Tyrion Lannister',\n",
       "  'text': \"And I I I'd I've I've King's Landing The again, chose did did. do fate. it my not. now of people seen seen. that what\"},\n",
       " {'name': 'Jon Snow',\n",
       "  'text': \"But I I can't happened. is justify now. over the try. war what won't\"},\n",
       " {'name': 'Tyrion Lannister',\n",
       "  'text': \"And Bay. Is King's Landing. She She Slaver's When all. and are did done fighting? free... go heard her her it? liberated liberated liberating like of of of on people people people rules she she she'll soldiers, someone sound talking the the the the them to until who's world you\"},\n",
       " {'name': 'Jon Snow',\n",
       "  'text': \"And Until been by counseling her her. side, today. you've\"},\n",
       " {'name': 'Tyrion Lannister',\n",
       "  'text': \"I I It Our Until Varys and blood. could fire guide her. is nature queen's right. think to today. vanity was was was wrong.\"},\n",
       " {'name': 'Jon Snow',\n",
       "  'text': \"I'd Lannister. She's Then Tywin You and and are are? be blood, bodies born father, fire her house more no not on our our stamped than that's think too. we we're when who words you're\"},\n",
       " {'name': 'Tyrion Lannister',\n",
       "  'text': \"My My Pile a all all an an as as be beautiful bodies day. ever evil evil father half in killed, man. many of our people queen single sister slaughtered still the the there they up was was woman. won't\"},\n",
       " {'name': 'Jon Snow', 'text': 'Cersei choice. her left no'},\n",
       " {'name': 'Tyrion Lannister',\n",
       "  'text': 'The battle fell, gates moment over. the the was'},\n",
       " {'name': 'Jon Snow',\n",
       "  'text': 'She She beheaded. dragon friend her her of out saw saw shot sky. the'},\n",
       " {'name': 'Tyrion Lannister', 'text': 'And a burned city down for it. she'},\n",
       " {'name': 'Jon Snow',\n",
       "  'text': \"Aye, battlefield. easy far from it's judge standing the to when you're\"},\n",
       " {'name': 'Tyrion Lannister', 'text': 'Would done have it? you'},\n",
       " {'name': 'Jon Snow', 'text': 'What?'},\n",
       " {'name': 'Tyrion Lannister',\n",
       "  'text': \"Would You've You've a back. been burned city down? dragon's had have on power. that the there, up you\"},\n",
       " {'name': 'Jon Snow', 'text': \"I don't know.\"},\n",
       " {'name': 'Tyrion Lannister',\n",
       "  'text': \"Yes, You because betray but do. don't her... know. say to want won't you you you\"},\n",
       " {'name': 'Jon Snow', 'text': \"I'd What's do? it matter what\"},\n",
       " {'name': 'Tyrion Lannister',\n",
       "  'text': \"After And Astapor, Dothraki Everywhere I'm If It Meereenese She The They They When When a alive? all, and and and and anything. argue? believed believed believes better between build burned but cheer complained. could crucified destiny die done everyone. evil evil evil for for goes, good grows have her her her. hundreds if is is it, it. khals kill matters men men. men. more more more murdered no nobles, of of one paradise? powerful right. she she she she she she slavers slavers stood sure sure than that that... the the they to to truly we were were who whoever world worse would wouldn't you you you you\"},\n",
       " {'name': 'Tyrion Lannister',\n",
       "  'text': 'But I I I Look Love Not We all all as as at believed brother. heart. her her, her. in is know know love love more my my powerful reason. successfully than that. too. with you you.'},\n",
       " {'name': 'Jon Snow', 'text': '\"Love death duty.\" is of the'},\n",
       " {'name': 'Tyrion Lannister', 'text': 'You came just that? up with'},\n",
       " {'name': 'Jon Snow', 'text': 'Aemon Maester a ago. it long said time'},\n",
       " {'name': 'Tyrion Lannister',\n",
       "  'text': \"And Do I'm I'm Iron It's It's No Sometimes Throne? Who Who You a also always are asking. cost, dangerous death do duty execute? greatest guards heir is is is last love. man matter men. more now? of of people people. protect realms right right rightful she'll shield terrible than that the the the the the the the the the the the thing thing. thing. think threat to to to to tried tried you you've you've\"},\n",
       " {'name': 'Jon Snow',\n",
       "  'text': \"I'm Queen. She That's came decision. her is it sorry the this. to\"},\n",
       " {'name': 'Tyrion Lannister',\n",
       "  'text': 'And Do bending knee? see sisters? the them you your'},\n",
       " {'name': 'Jon Snow', 'text': 'My be loyal sisters the throne. to will'},\n",
       " {'name': 'Tyrion Lannister',\n",
       "  'text': \"Because Dany Sansa Why about be do doesn't me queen. she the think to told truth want you you?\"},\n",
       " {'name': 'Jon Snow', 'text': \"She choose. doesn't get to\"},\n",
       " {'name': 'Tyrion Lannister',\n",
       "  'text': 'And But No. choose do. have now. to you you'},\n",
       " {'name': 'Daenerys Targaryen',\n",
       "  'text': \"1,000 1,000 20? Aegon's Aegon's I I So What When a a a brother can't climb. could count do enemies, enemies. fallen fallen feet. from girl girl, high imagined in it like little look made many me mind mountain my of of of only see soles swords swords swords the the to to told too was was who with you\"},\n",
       " {'name': 'Jon Snow',\n",
       "  'text': 'I Lannister They acting executing in on orders. prisoners said saw street. the them they were your'},\n",
       " {'name': 'Daenerys Targaryen', 'text': 'It necessary. was'},\n",
       " {'name': 'Jon Snow',\n",
       "  'text': 'Children, Have Have Necessary? been burned! children, down little seen? there? you you'},\n",
       " {'name': 'Daenerys Targaryen',\n",
       "  'text': 'Cersei. I She She a against as cripple innocence it make me. me. peace their thought to tried used weapon with would'},\n",
       " {'name': 'Jon Snow', 'text': 'And Tyrion?'},\n",
       " {'name': 'Daenerys Targaryen',\n",
       "  'text': \"He How back behind broke conspired done enemies. even have heart? it my my people same the to treated when who've with you you, your\"},\n",
       " {'name': 'Jon Snow', 'text': 'Forgive him.'},\n",
       " {'name': 'Daenerys Targaryen', 'text': \"I can't.\"},\n",
       " {'name': 'Jon Snow',\n",
       "  'text': 'Dany. Make Please, You You a all can can. forgive made make mistake. of see them them them, they understand.'},\n",
       " {'name': 'Daenerys Targaryen',\n",
       "  'text': \"The We be behind built by can't have. hide loyal men mercies. need small the to we we won't world world\"},\n",
       " {'name': 'Jon Snow',\n",
       "  'text': 'It The a be. has is mercy. need of to we world world'},\n",
       " {'name': 'Daenerys Targaryen',\n",
       "  'text': \"A And It's be. been before. easy good it never not see something that's to will world.\"},\n",
       " {'name': 'Jon Snow',\n",
       "  'text': \"How How be do do good? it'll know know? you you\"},\n",
       " {'name': 'Daenerys Targaryen',\n",
       "  'text': 'And Because I do good. is know so what you.'},\n",
       " {'name': 'Jon Snow', 'text': \"I don't.\"},\n",
       " {'name': 'Daenerys Targaryen',\n",
       "  'text': \"You You You've always do. do. known.\"},\n",
       " {'name': 'Jon Snow',\n",
       "  'text': \"All What about else? everyone good. know other people the they think what's who\"},\n",
       " {'name': 'Daenerys Targaryen',\n",
       "  'text': \"20. Be Build I It They This We We a a a and bastard's been beginning, boy break choose. couldn't count do don't from get girl has is it little little me. me. name new our reason. since the the the to to together. together. was were wheel who with with with world you\"},\n",
       " {'name': 'Jon Snow', 'text': 'Now, You always. and are my queen.'},\n",
       " {'name': 'Sansa Stark', 'text': \"Jon? Where's\"},\n",
       " {'name': 'Grey Worm', 'text': 'He is our prisoner.'},\n",
       " {'name': 'Sansa Stark',\n",
       "  'text': 'Lord So They Tyrion. be both brought gathering. is this to to were'},\n",
       " {'name': 'Grey Worm',\n",
       "  'text': 'This We city decide do is now. our our prisoners. we what will with'},\n",
       " {'name': 'Sansa Stark',\n",
       "  'text': \"If Jon Northmen Snow city, explain find harming in interest. is look not of of outside the thousands to walls who why will you you you'll your your\"},\n",
       " {'name': 'Grey Worm',\n",
       "  'text': 'And Unsullied believe find is. it of that thousands who will you'},\n",
       " {'name': 'Yara Greyjoy',\n",
       "  'text': 'Daenerys I Ironborn Some Targaryen. The are be follow forgive. may not. of quick swore to to you'},\n",
       " {'name': 'Sansa Stark', 'text': 'You a follow swore to tyrant.'},\n",
       " {'name': 'Yara Greyjoy',\n",
       "  'text': 'Cersei Jon Let She Snow Unsullied a a and because deserves. freed from give gone he heart. her her, him in is knife of put the tyrant. us what'},\n",
       " {'name': 'Arya Stark',\n",
       "  'text': \"I'll Say about and another brother cut killing my throat. word your\"},\n",
       " {'name': 'Davos Seaworth',\n",
       "  'text': \"Am Friends, Good House I If Make Nudho. Reach. Start The There This Thousands Torgo Unsullied We We've We've You a a and are as bannermen. been better but can country cutting dead. debt each ends. enough enough. find for gone. had how in is it it it it know land land. let live long lost men, need never of of other's owes own own. people please. properly? repay, saying that that the the the the them. there thousands throats to to try. us used war war. way. we weren't with with would've you you you, your your your your\"},\n",
       " {'name': 'Grey Worm',\n",
       "  'text': 'Jon Snow We We cannot do free. go justice. need need not payment.'},\n",
       " {'name': 'Tyrion Lannister', 'text': \"It's decide. for not to you\"},\n",
       " {'name': 'Grey Worm',\n",
       "  'text': 'Everyone You are enough from has heard here not speak! to words you.'},\n",
       " {'name': 'Tyrion Lannister',\n",
       "  'text': \"And But His Jon Or You're any better committed crime decide. decide. fate for for for here. his is it's it. king no not one's our our queen. right. to to you\"},\n",
       " {'name': 'Yohn Royce', 'text': \"We a don't have king or queen.\"},\n",
       " {'name': 'Tyrion Lannister',\n",
       "  'text': \"Choose Westeros. You're in most one. people powerful the\"},\n",
       " {'name': 'Grey Worm', 'text': 'Make choice, then. your'},\n",
       " {'name': 'Edmure Tully',\n",
       "  'text': 'A And I I I My What and and annals as before country. decide experience has history. important in in is ladies... led like lives. lords lords moment most my of of of of one our reverberate senior skill small some stand statecraft suppose the the the the think this through to to today two underst... veteran wars. we will you'},\n",
       " {'name': 'Sansa Stark', 'text': 'Please Uncle? sit.'},\n",
       " {'name': 'Yohn Royce', 'text': 'Well, choose have someone. to we'},\n",
       " {'name': 'Samwell Tarly',\n",
       "  'text': \"Houses, Maybe Um, Um... We Why about ahem... all and be best but choose, decision everyone everyone. for great just just ladies. left lords over represent rule should the the they to... us? we well, what's whomever won't\"},\n",
       " {'name': 'Edmure Tully',\n",
       "  'text': 'Maybe a as dogs give should the vote we well.'},\n",
       " {'name': 'Yohn Royce', 'text': \"I'll ask horse. my\"},\n",
       " {'name': 'Edmure Tully', 'text': 'I crown. suppose the want you'},\n",
       " {'name': 'Tyrion Lannister',\n",
       "  'text': \"Can't Daenerys, Half Imp? Me? The a betraying choice. for for half hate hate her. me me of other people serving the the think worse\"},\n",
       " {'name': 'Davos Seaworth', 'text': 'Who, then?'},\n",
       " {'name': 'Tyrion Lannister',\n",
       "  'text': \"About About And Armies? Bran Broken? Flags? Gold? He He He I've No Nothing Our Raven. Stories. The The There's Three-Eyed Wall, What Who a a a a again, all and and became better better beyond births, bloody boy boy, but can can crippled crossed defeat defeats, do enemy famines. fell few fly. from future? good had has he he'd high history. in into is it. it. keeper knew lead learned lived. made. massacres, memory, mistakes mm, more never nothing nothing of our our our our our past past. people? powerful so stop stories. story. story... than than the the the the the the the these think to to to tower triumphs, unites us walk wars, we've weddings, weeks. who who world\"},\n",
       " {'name': 'Sansa Stark',\n",
       "  'text': \"Bran and can't children. father has he in interest no ruling\"},\n",
       " {'name': 'Tyrion Lannister',\n",
       "  'text': \"But From Good. His I I I Kingdoms Realm. Seven Sons That They Westeros... Will abilities about and and as ask be be be best born. break. by can care choose chosen crown? cruel day day? don't don't from if is it. kings know know know. ladies last lead lords never not now now, of of of on on, our power. queen rulers serve spot stupid, the the the the the the this this to to to torment until us. want wanted we wear well wheel will will will will you you you you you you you... your your\"},\n",
       " {'name': 'Bran Stark', 'text': 'I Why all came do think this way? you'},\n",
       " {'name': 'Tyrion Lannister',\n",
       "  'text': 'Brandon House I Stark... To aye. of say'},\n",
       " {'name': 'Samwell Tarly', 'text': 'Aye.'},\n",
       " {'name': 'Edmure Tully', 'text': 'Aye.'},\n",
       " {'name': 'Lord #1', 'text': 'Aye.'},\n",
       " {'name': 'Lord #2', 'text': 'Aye.'},\n",
       " {'name': 'Yohn Royce', 'text': 'Aye.'},\n",
       " {'name': 'Robin Arryn', 'text': 'Aye.'},\n",
       " {'name': 'Dornish Lord', 'text': 'Aye.'},\n",
       " {'name': 'Yara Greyjoy', 'text': 'Aye.'},\n",
       " {'name': 'Lord #3', 'text': 'Aye.'},\n",
       " {'name': 'Lord #4', 'text': 'Aye.'},\n",
       " {'name': 'Gendry', 'text': 'Aye.'},\n",
       " {'name': 'Davos Seaworth', 'text': \"I I'm a aye. but get not sure vote,\"},\n",
       " {'name': 'Brienne of Tarth', 'text': 'Aye.'},\n",
       " {'name': 'Sansa Stark',\n",
       "  'text': \"And But Great I I North Northmen The War Westeros. You'll a again. all always an and as be brother. defending ever fell for fought good hard have in independent it king. kingdom, kneel little love much of of of of remain seen survived tens the those thousands thousands to too too was who will will. years. you,\"},\n",
       " {'name': 'Tyrion Lannister',\n",
       "  'text': 'All Andals Bran Broken, First First His King Kingdoms Lord Men, Name, Protector Realm. Six and and hail of of of of the the the the the'},\n",
       " {'name': 'Samwell Tarly', 'text': 'All Bran Broken! hail the'},\n",
       " {'name': 'Edmure Tully', 'text': 'All Bran Broken! hail the'},\n",
       " {'name': 'Lord #1', 'text': 'All Bran Broken! hail the'},\n",
       " {'name': 'Lord #2', 'text': 'All Bran Broken! hail the'},\n",
       " {'name': 'Yohn Royce', 'text': 'All Bran Broken! hail the'},\n",
       " {'name': 'Robin Arryn', 'text': 'All Bran Broken! hail the'},\n",
       " {'name': 'Dornish Lord', 'text': 'All Bran Broken! hail the'},\n",
       " {'name': 'Yara Greyjoy', 'text': 'All Bran Broken! hail the'},\n",
       " {'name': 'Lord #3', 'text': 'All Bran Broken! hail the'},\n",
       " {'name': 'Lord #4', 'text': 'All Bran Broken! hail the'},\n",
       " {'name': 'Gendry', 'text': 'All Bran Broken! hail the'},\n",
       " {'name': 'Davos Seaworth', 'text': 'All Bran Broken! hail the'},\n",
       " {'name': 'Brienne of Tarth', 'text': 'All Bran Broken! hail the'},\n",
       " {'name': 'Bran Stark', 'text': 'Hand. Lord Tyrion... be my will you'},\n",
       " {'name': 'Tyrion Lannister', 'text': \"Grace, I N... No, Your don't it. want\"},\n",
       " {'name': 'Bran Stark', 'text': \"And I be don't king. to want\"},\n",
       " {'name': 'Tyrion Lannister',\n",
       "  'text': \"Choose Choose Davos. I I I I I I I Ser anyone but but deserve didn't. don't else. it. knew right, thought thought was was wasn't. what wise,\"},\n",
       " {'name': 'Bran Stark', 'text': 'I choose you.'},\n",
       " {'name': 'Grey Worm', 'text': 'You cannot.'},\n",
       " {'name': 'Bran Stark', 'text': \"I I'm Yes, can. king.\"},\n",
       " {'name': 'Grey Worm', 'text': 'He This a criminal. deserves is justice. man'},\n",
       " {'name': 'Bran Stark',\n",
       "  'text': \"He He's He's fixing going got his it. just life made many mistakes. of rest spend terrible the them. to\"},\n",
       " {'name': 'Grey Worm', 'text': 'It enough. is not'},\n",
       " {'name': 'Tyrion Lannister',\n",
       "  'text': \"Giving Letting Night's So Unsullied Watch. a a chosen free has king new our send start start the the to to to walk war. war. would would you you you\"},\n",
       " {'name': 'Jon Snow', 'text': \"Night's There's Watch? a still\"},\n",
       " {'name': 'Tyrion Lannister',\n",
       "  'text': \"Arya Grey I No Sansa The The Unsullied Which Worm You a a a accepted always and and bastards broken but but children. compromise, course, father for freed, good happy. has head hold home is it's justice king lands, life make means men. need needs new no no no of of one our peace. sentence. shall suppose. take the they to understand very wanted wanted wife, will world you your\"},\n",
       " {'name': 'Jon Snow', 'text': 'I Was What did? it right?'},\n",
       " {'name': 'Tyrion Lannister', 'text': 'What did. we'},\n",
       " {'name': 'Jon Snow', 'text': \"It doesn't feel right.\"},\n",
       " {'name': 'Tyrion Lannister', 'text': '10 Ask again in me years.'},\n",
       " {'name': 'Jon Snow',\n",
       "  'text': \"I again. don't each ever expect other see we'll\"},\n",
       " {'name': 'Tyrion Lannister',\n",
       "  'text': \"A Hand I King anyone as be edge few make of of off piss so sure. the the the to want world. would wouldn't years\"},\n",
       " {'lang': 'Astapori Valyrian',\n",
       "  'name': 'Unsullied #1',\n",
       "  'translation': 'All boarded. have men the',\n",
       "  'text': ''},\n",
       " {'lang': 'Astapori Valyrian',\n",
       "  'name': 'Grey Worm',\n",
       "  'translation': 'Good. Isle Naath. We for of sail the',\n",
       "  'text': ''},\n",
       " {'name': 'Sansa Stark',\n",
       "  'text': 'Can I another been forgive had me? there way. wish you'},\n",
       " {'name': 'Jon Snow', 'text': 'North The free, is thanks to you.'},\n",
       " {'name': 'Sansa Stark', 'text': 'But king. lost their they'},\n",
       " {'name': 'Jon Snow',\n",
       "  'text': \"Ned She's Stark's ask best could daughter for for. speak the them. they will\"},\n",
       " {'name': 'Jon Snow',\n",
       "  'text': 'Black. Castle You at can come know, me, see you'},\n",
       " {'name': 'Arya Stark', 'text': \"I can't.\"},\n",
       " {'name': 'Jon Snow',\n",
       "  'text': \"You allowed? anyone aren't dare tell think will women you\"},\n",
       " {'name': 'Arya Stark', 'text': \"I'm back going north. not\"},\n",
       " {'name': 'Sansa Stark', 'text': 'Where are going? you'},\n",
       " {'name': 'Arya Stark', 'text': \"Westeros? What's of west\"},\n",
       " {'name': 'Jon Snow', 'text': \"I don't know.\"},\n",
       " {'name': 'Arya Stark',\n",
       "  'text': \"I'm It's No That's all going. knows. maps one stop. the where where\"},\n",
       " {'name': 'Jon Snow', 'text': 'Needle? You have your'},\n",
       " {'name': 'Arya Stark', 'text': 'Right here.'},\n",
       " {'name': 'Jon Snow',\n",
       "  'text': \"Grace. I I'm Your me. needed sorry there wasn't when you\"},\n",
       " {'name': 'Bran Stark',\n",
       "  'text': 'You be. exactly supposed to were were where you'},\n",
       " {'name': 'Tyrion Lannister', 'text': \"That's Uh... What's not... this?\"},\n",
       " {'name': 'Samwell Tarly',\n",
       "  'text': '\"A Archmaester Ebrose\\'s Fire\". I Ice King Robert. Song and death following helped him history of of of the the the title. wars with'},\n",
       " {'name': 'Tyrion Lannister',\n",
       "  'text': 'I I come criticism. for heavy in some suppose'},\n",
       " {'name': 'Samwell Tarly', 'text': \"I Oh, say that. wouldn't\"},\n",
       " {'name': 'Tyrion Lannister',\n",
       "  'text': \"He's Never Oh, guessed. he's kind kind? me. not to would've\"},\n",
       " {'name': 'Samwell Tarly', 'text': 'He...'},\n",
       " {'name': 'Tyrion Lannister', 'text': 'He What about does he me? say what?'},\n",
       " {'name': 'Samwell Tarly', 'text': \"I ahem. believe don't mentioned, you're\"},\n",
       " {'name': 'Tyrion Lannister', 'text': 'Grace. Your'},\n",
       " {'name': 'Samwell Tarly', 'text': 'Grace. Your'},\n",
       " {'name': 'Bronn', 'text': 'Grace. Your'},\n",
       " {'name': 'Davos Seaworth', 'text': 'Grace. Your'},\n",
       " {'name': 'Bran Stark',\n",
       "  'text': 'And And Laws. Master Master Master War. We Whisperers. a a a appear be missing of of of to'},\n",
       " {'name': 'Tyrion Lannister',\n",
       "  'text': 'Grace. Suitable Yes, Your an audience be brought coming for in prospects the to weeks. will you'},\n",
       " {'name': 'Bran Stark', 'text': 'And Any Drogon? word?'},\n",
       " {'name': 'Samwell Tarly',\n",
       "  'text': 'He east, flying last spotted toward... was'},\n",
       " {'name': 'Bronn', 'text': 'The away, better. farther the'},\n",
       " {'name': 'Bran Stark',\n",
       "  'text': 'Do I Perhaps can carry find him. on rest. the with'},\n",
       " {'name': 'Tyrion Lannister', 'text': 'As Grace. Your wish, you'},\n",
       " {'name': 'Brienne of Tarth', 'text': 'Podrick. Ser'},\n",
       " {'name': 'Tyrion Lannister',\n",
       "  'text': 'Bran Broken, King Kingdoms Long Protector Realm. Six We and at he may of of pleasure, reign. ruler serve the the the your'},\n",
       " {'name': 'Samwell Tarly', 'text': 'Long he may reign.'},\n",
       " {'name': 'Davos Seaworth', 'text': 'Long he may reign.'},\n",
       " {'name': 'Brienne of Tarth', 'text': 'Long he may reign.'},\n",
       " {'name': 'Bronn', 'text': 'Long he may reign.'},\n",
       " {'name': 'Tyrion Lannister', 'text': 'That improve. will'},\n",
       " {'name': 'Bran Stark', 'text': \"I'm it sure will.\"},\n",
       " {'name': 'Tyrion Lannister',\n",
       "  'text': \"Blackwater, Bronn Coin, Crown's Highgarden, Lord Lord Master Paramount Reach Ser and been debt has of of of of paid? say the the the to would you you\"},\n",
       " {'name': 'Bronn', 'text': 'Hand. In Lord full, my'},\n",
       " {'name': 'Tyrion Lannister',\n",
       "  'text': 'Can Good. Time We a assistance expect feed. have hungry in incurring new one. people regard? some start this to to we'},\n",
       " {'name': 'Bronn', 'text': 'Indeed can. we'},\n",
       " {'name': 'Tyrion Lannister',\n",
       "  'text': 'Davos, Lord an and armada have ports rebuild repair. to to we'},\n",
       " {'name': 'Davos Seaworth',\n",
       "  'text': 'Coin Lofty Lord Master These Titles We and as as begin funding. have. of of projects provides soon the will'},\n",
       " {'name': 'Bronn',\n",
       "  'text': \"Coin Master Master Ships, The be but coin, coin. ensure first forward has he helping looks more no not of of or soon the there to to wasting we're won't\"},\n",
       " {'name': 'Davos Seaworth', 'text': '\"Any more.\"'},\n",
       " {'name': 'Bronn', 'text': 'Grammar Master You now, of too?'},\n",
       " {'name': 'Tyrion Lannister',\n",
       "  'text': 'Casterly Grandmaester, Rock a ahem, based clean healthier is it leads my my of on on population. sewers, that the theory, to water work years'},\n",
       " {'name': 'Samwell Tarly',\n",
       "  'text': 'Archmaester The and done has it on out... research some subject this turns'},\n",
       " {'name': 'Bronn', 'text': \"The and don't. live strong the weak\"},\n",
       " {'name': 'Tyrion Lannister',\n",
       "  'text': 'Find and best builders set task. the the them to'},\n",
       " {'name': 'Bronn',\n",
       "  'text': 'Coin Master Oh, The all best brothels builders, burned down. fund is of of reconstruction. speaking the to willing'},\n",
       " {'name': 'Samwell Tarly',\n",
       "  'text': 'Archmaester Uh... about brothels. effects enthusiastic is less of salutary than the the'},\n",
       " {'name': 'Bronn', 'text': \"I Well, he imagine isn't properly. them using\"},\n",
       " {'name': 'Brienne of Tarth',\n",
       "  'text': 'I agree all brothels. can over precedence ships take that think we'},\n",
       " {'name': 'Bronn', 'text': \"I a presumptuous statement. that's think very\"},\n",
       " {'name': 'Tyrion Lannister',\n",
       "  'text': 'I a a a and brothel. brought honeycomb into jackass once'},\n",
       " {'name': 'Stark Bannerman', 'text': 'North! Queen The in the'},\n",
       " {'name': 'Stark Bannermen',\n",
       "  'text': 'North! North! North! North! North! Queen Queen Queen Queen Queen The The The The The in in in in in the the the the the'}]"
      ]
     },
     "execution_count": 8,
     "metadata": {},
     "output_type": "execute_result"
    }
   ],
   "source": [
    "df.iloc[-1]['text']"
   ]
  },
  {
   "cell_type": "code",
   "execution_count": 12,
   "metadata": {},
   "outputs": [],
   "source": [
    "\n",
    "dialouge = {}\n",
    "for index, row in df.iterrows():\n",
    "    for item in row['text']:\n",
    "        if item['name'] in dialouge:\n",
    "            # append\n",
    "            dialouge[item['name']] = dialouge[item['name']] + item['text']\n",
    "        else:\n",
    "            # create character\n",
    "            dialouge[item['name']] = item['text'] + \" \""
   ]
  },
  {
   "cell_type": "code",
   "execution_count": 14,
   "metadata": {},
   "outputs": [
    {
     "data": {
      "text/plain": [
       "817"
      ]
     },
     "execution_count": 14,
     "metadata": {},
     "output_type": "execute_result"
    }
   ],
   "source": [
    "len(dialouge)"
   ]
  },
  {
   "cell_type": "code",
   "execution_count": 15,
   "metadata": {},
   "outputs": [],
   "source": [
    "new_df = pd.DataFrame()\n",
    "new_df['character'] = dialouge.keys()\n",
    "new_df['words'] = dialouge.values()"
   ]
  },
  {
   "cell_type": "code",
   "execution_count": 16,
   "metadata": {},
   "outputs": [
    {
     "data": {
      "text/html": [
       "<div>\n",
       "<style scoped>\n",
       "    .dataframe tbody tr th:only-of-type {\n",
       "        vertical-align: middle;\n",
       "    }\n",
       "\n",
       "    .dataframe tbody tr th {\n",
       "        vertical-align: top;\n",
       "    }\n",
       "\n",
       "    .dataframe thead th {\n",
       "        text-align: right;\n",
       "    }\n",
       "</style>\n",
       "<table border=\"1\" class=\"dataframe\">\n",
       "  <thead>\n",
       "    <tr style=\"text-align: right;\">\n",
       "      <th></th>\n",
       "      <th>character</th>\n",
       "      <th>words</th>\n",
       "    </tr>\n",
       "  </thead>\n",
       "  <tbody>\n",
       "    <tr>\n",
       "      <th>0</th>\n",
       "      <td>Will</td>\n",
       "      <td>Easy, boy. I've I've Wildlings a a do ever in ...</td>\n",
       "    </tr>\n",
       "    <tr>\n",
       "      <th>1</th>\n",
       "      <td>Waymar Royce</td>\n",
       "      <td>One They're What a and another before d'you ea...</td>\n",
       "    </tr>\n",
       "    <tr>\n",
       "      <th>2</th>\n",
       "      <td>Gared</td>\n",
       "      <td>Wall. We back head should the to Our They We W...</td>\n",
       "    </tr>\n",
       "    <tr>\n",
       "      <th>3</th>\n",
       "      <td>Jon Snow</td>\n",
       "      <td>Father's Go on. watching. And mother. yourBran...</td>\n",
       "    </tr>\n",
       "    <tr>\n",
       "      <th>4</th>\n",
       "      <td>Septa Mordane</td>\n",
       "      <td>Fine Well always. as done. work, I Quite beaut...</td>\n",
       "    </tr>\n",
       "  </tbody>\n",
       "</table>\n",
       "</div>"
      ],
      "text/plain": [
       "       character                                              words\n",
       "0           Will  Easy, boy. I've I've Wildlings a a do ever in ...\n",
       "1   Waymar Royce  One They're What a and another before d'you ea...\n",
       "2          Gared  Wall. We back head should the to Our They We W...\n",
       "3       Jon Snow  Father's Go on. watching. And mother. yourBran...\n",
       "4  Septa Mordane  Fine Well always. as done. work, I Quite beaut..."
      ]
     },
     "execution_count": 16,
     "metadata": {},
     "output_type": "execute_result"
    }
   ],
   "source": [
    "new_df.head()"
   ]
  },
  {
   "cell_type": "code",
   "execution_count": 17,
   "metadata": {},
   "outputs": [
    {
     "data": {
      "text/html": [
       "<div>\n",
       "<style scoped>\n",
       "    .dataframe tbody tr th:only-of-type {\n",
       "        vertical-align: middle;\n",
       "    }\n",
       "\n",
       "    .dataframe tbody tr th {\n",
       "        vertical-align: top;\n",
       "    }\n",
       "\n",
       "    .dataframe thead th {\n",
       "        text-align: right;\n",
       "    }\n",
       "</style>\n",
       "<table border=\"1\" class=\"dataframe\">\n",
       "  <thead>\n",
       "    <tr style=\"text-align: right;\">\n",
       "      <th></th>\n",
       "      <th>character</th>\n",
       "      <th>words</th>\n",
       "    </tr>\n",
       "  </thead>\n",
       "  <tbody>\n",
       "    <tr>\n",
       "      <th>0</th>\n",
       "      <td>Will</td>\n",
       "      <td>Easy, boy. I've I've Wildlings a a do ever in ...</td>\n",
       "    </tr>\n",
       "    <tr>\n",
       "      <th>1</th>\n",
       "      <td>Waymar Royce</td>\n",
       "      <td>One They're What a and another before d'you ea...</td>\n",
       "    </tr>\n",
       "    <tr>\n",
       "      <th>2</th>\n",
       "      <td>Gared</td>\n",
       "      <td>Wall. We back head should the to Our They We W...</td>\n",
       "    </tr>\n",
       "    <tr>\n",
       "      <th>3</th>\n",
       "      <td>Jon Snow</td>\n",
       "      <td>Father's Go on. watching. And mother. yourBran...</td>\n",
       "    </tr>\n",
       "    <tr>\n",
       "      <th>4</th>\n",
       "      <td>Septa Mordane</td>\n",
       "      <td>Fine Well always. as done. work, I Quite beaut...</td>\n",
       "    </tr>\n",
       "  </tbody>\n",
       "</table>\n",
       "</div>"
      ],
      "text/plain": [
       "       character                                              words\n",
       "0           Will  Easy, boy. I've I've Wildlings a a do ever in ...\n",
       "1   Waymar Royce  One They're What a and another before d'you ea...\n",
       "2          Gared  Wall. We back head should the to Our They We W...\n",
       "3       Jon Snow  Father's Go on. watching. And mother. yourBran...\n",
       "4  Septa Mordane  Fine Well always. as done. work, I Quite beaut..."
      ]
     },
     "execution_count": 17,
     "metadata": {},
     "output_type": "execute_result"
    }
   ],
   "source": [
    "new_df.iloc[:,0:3].head()"
   ]
  },
  {
   "cell_type": "code",
   "execution_count": 18,
   "metadata": {},
   "outputs": [],
   "source": [
    "new_df['num_words'] = new_df['words'].apply(lambda x:len(x.split()))"
   ]
  },
  {
   "cell_type": "code",
   "execution_count": 20,
   "metadata": {},
   "outputs": [
    {
     "data": {
      "text/html": [
       "<div>\n",
       "<style scoped>\n",
       "    .dataframe tbody tr th:only-of-type {\n",
       "        vertical-align: middle;\n",
       "    }\n",
       "\n",
       "    .dataframe tbody tr th {\n",
       "        vertical-align: top;\n",
       "    }\n",
       "\n",
       "    .dataframe thead th {\n",
       "        text-align: right;\n",
       "    }\n",
       "</style>\n",
       "<table border=\"1\" class=\"dataframe\">\n",
       "  <thead>\n",
       "    <tr style=\"text-align: right;\">\n",
       "      <th></th>\n",
       "      <th>character</th>\n",
       "      <th>words</th>\n",
       "      <th>num_words</th>\n",
       "    </tr>\n",
       "  </thead>\n",
       "  <tbody>\n",
       "    <tr>\n",
       "      <th>0</th>\n",
       "      <td>Will</td>\n",
       "      <td>Easy, boy. I've I've Wildlings a a do ever in ...</td>\n",
       "      <td>113</td>\n",
       "    </tr>\n",
       "    <tr>\n",
       "      <th>1</th>\n",
       "      <td>Waymar Royce</td>\n",
       "      <td>One They're What a and another before d'you ea...</td>\n",
       "      <td>94</td>\n",
       "    </tr>\n",
       "    <tr>\n",
       "      <th>2</th>\n",
       "      <td>Gared</td>\n",
       "      <td>Wall. We back head should the to Our They We W...</td>\n",
       "      <td>26</td>\n",
       "    </tr>\n",
       "    <tr>\n",
       "      <th>3</th>\n",
       "      <td>Jon Snow</td>\n",
       "      <td>Father's Go on. watching. And mother. yourBran...</td>\n",
       "      <td>11488</td>\n",
       "    </tr>\n",
       "    <tr>\n",
       "      <th>4</th>\n",
       "      <td>Septa Mordane</td>\n",
       "      <td>Fine Well always. as done. work, I Quite beaut...</td>\n",
       "      <td>290</td>\n",
       "    </tr>\n",
       "  </tbody>\n",
       "</table>\n",
       "</div>"
      ],
      "text/plain": [
       "       character                                              words  num_words\n",
       "0           Will  Easy, boy. I've I've Wildlings a a do ever in ...        113\n",
       "1   Waymar Royce  One They're What a and another before d'you ea...         94\n",
       "2          Gared  Wall. We back head should the to Our They We W...         26\n",
       "3       Jon Snow  Father's Go on. watching. And mother. yourBran...      11488\n",
       "4  Septa Mordane  Fine Well always. as done. work, I Quite beaut...        290"
      ]
     },
     "execution_count": 20,
     "metadata": {},
     "output_type": "execute_result"
    }
   ],
   "source": [
    "new_df.head()"
   ]
  },
  {
   "cell_type": "code",
   "execution_count": 21,
   "metadata": {},
   "outputs": [],
   "source": [
    "new_df = new_df.sort_values('num_words',ascending=False)"
   ]
  },
  {
   "cell_type": "code",
   "execution_count": 22,
   "metadata": {},
   "outputs": [
    {
     "data": {
      "text/html": [
       "<div>\n",
       "<style scoped>\n",
       "    .dataframe tbody tr th:only-of-type {\n",
       "        vertical-align: middle;\n",
       "    }\n",
       "\n",
       "    .dataframe tbody tr th {\n",
       "        vertical-align: top;\n",
       "    }\n",
       "\n",
       "    .dataframe thead th {\n",
       "        text-align: right;\n",
       "    }\n",
       "</style>\n",
       "<table border=\"1\" class=\"dataframe\">\n",
       "  <thead>\n",
       "    <tr style=\"text-align: right;\">\n",
       "      <th></th>\n",
       "      <th>character</th>\n",
       "      <th>words</th>\n",
       "      <th>num_words</th>\n",
       "    </tr>\n",
       "  </thead>\n",
       "  <tbody>\n",
       "    <tr>\n",
       "      <th>17</th>\n",
       "      <td>Tyrion Lannister</td>\n",
       "      <td>It Mmh. Northern about girls. is say the they ...</td>\n",
       "      <td>25924</td>\n",
       "    </tr>\n",
       "    <tr>\n",
       "      <th>13</th>\n",
       "      <td>Cersei Lannister</td>\n",
       "      <td>And And Casterly One Rock. When about afraid. ...</td>\n",
       "      <td>14294</td>\n",
       "    </tr>\n",
       "    <tr>\n",
       "      <th>3</th>\n",
       "      <td>Jon Snow</td>\n",
       "      <td>Father's Go on. watching. And mother. yourBran...</td>\n",
       "      <td>11488</td>\n",
       "    </tr>\n",
       "    <tr>\n",
       "      <th>20</th>\n",
       "      <td>Daenerys Targaryen</td>\n",
       "      <td>We've a and anything. asked been for for guest...</td>\n",
       "      <td>11202</td>\n",
       "    </tr>\n",
       "    <tr>\n",
       "      <th>12</th>\n",
       "      <td>Jaime Lannister</td>\n",
       "      <td>As I It's brother, duty feel it's much. my sho...</td>\n",
       "      <td>10823</td>\n",
       "    </tr>\n",
       "  </tbody>\n",
       "</table>\n",
       "</div>"
      ],
      "text/plain": [
       "             character                                              words  \\\n",
       "17    Tyrion Lannister  It Mmh. Northern about girls. is say the they ...   \n",
       "13    Cersei Lannister  And And Casterly One Rock. When about afraid. ...   \n",
       "3             Jon Snow  Father's Go on. watching. And mother. yourBran...   \n",
       "20  Daenerys Targaryen  We've a and anything. asked been for for guest...   \n",
       "12     Jaime Lannister  As I It's brother, duty feel it's much. my sho...   \n",
       "\n",
       "    num_words  \n",
       "17      25924  \n",
       "13      14294  \n",
       "3       11488  \n",
       "20      11202  \n",
       "12      10823  "
      ]
     },
     "execution_count": 22,
     "metadata": {},
     "output_type": "execute_result"
    }
   ],
   "source": [
    "new_df.head()"
   ]
  },
  {
   "cell_type": "code",
   "execution_count": 23,
   "metadata": {},
   "outputs": [],
   "source": [
    "# Here i have just taken 100 character you can consider more than that\n",
    "new_df = new_df.head(100)"
   ]
  },
  {
   "cell_type": "code",
   "execution_count": 24,
   "metadata": {},
   "outputs": [
    {
     "data": {
      "text/plain": [
       "(100, 3)"
      ]
     },
     "execution_count": 24,
     "metadata": {},
     "output_type": "execute_result"
    }
   ],
   "source": [
    "new_df.shape"
   ]
  },
  {
   "cell_type": "code",
   "execution_count": 25,
   "metadata": {},
   "outputs": [
    {
     "data": {
      "text/html": [
       "<div>\n",
       "<style scoped>\n",
       "    .dataframe tbody tr th:only-of-type {\n",
       "        vertical-align: middle;\n",
       "    }\n",
       "\n",
       "    .dataframe tbody tr th {\n",
       "        vertical-align: top;\n",
       "    }\n",
       "\n",
       "    .dataframe thead th {\n",
       "        text-align: right;\n",
       "    }\n",
       "</style>\n",
       "<table border=\"1\" class=\"dataframe\">\n",
       "  <thead>\n",
       "    <tr style=\"text-align: right;\">\n",
       "      <th></th>\n",
       "      <th>character</th>\n",
       "      <th>words</th>\n",
       "      <th>num_words</th>\n",
       "    </tr>\n",
       "  </thead>\n",
       "  <tbody>\n",
       "    <tr>\n",
       "      <th>17</th>\n",
       "      <td>Tyrion Lannister</td>\n",
       "      <td>It Mmh. Northern about girls. is say the they ...</td>\n",
       "      <td>25924</td>\n",
       "    </tr>\n",
       "    <tr>\n",
       "      <th>13</th>\n",
       "      <td>Cersei Lannister</td>\n",
       "      <td>And And Casterly One Rock. When about afraid. ...</td>\n",
       "      <td>14294</td>\n",
       "    </tr>\n",
       "    <tr>\n",
       "      <th>3</th>\n",
       "      <td>Jon Snow</td>\n",
       "      <td>Father's Go on. watching. And mother. yourBran...</td>\n",
       "      <td>11488</td>\n",
       "    </tr>\n",
       "    <tr>\n",
       "      <th>20</th>\n",
       "      <td>Daenerys Targaryen</td>\n",
       "      <td>We've a and anything. asked been for for guest...</td>\n",
       "      <td>11202</td>\n",
       "    </tr>\n",
       "    <tr>\n",
       "      <th>12</th>\n",
       "      <td>Jaime Lannister</td>\n",
       "      <td>As I It's brother, duty feel it's much. my sho...</td>\n",
       "      <td>10823</td>\n",
       "    </tr>\n",
       "  </tbody>\n",
       "</table>\n",
       "</div>"
      ],
      "text/plain": [
       "             character                                              words  \\\n",
       "17    Tyrion Lannister  It Mmh. Northern about girls. is say the they ...   \n",
       "13    Cersei Lannister  And And Casterly One Rock. When about afraid. ...   \n",
       "3             Jon Snow  Father's Go on. watching. And mother. yourBran...   \n",
       "20  Daenerys Targaryen  We've a and anything. asked been for for guest...   \n",
       "12     Jaime Lannister  As I It's brother, duty feel it's much. my sho...   \n",
       "\n",
       "    num_words  \n",
       "17      25924  \n",
       "13      14294  \n",
       "3       11488  \n",
       "20      11202  \n",
       "12      10823  "
      ]
     },
     "execution_count": 25,
     "metadata": {},
     "output_type": "execute_result"
    }
   ],
   "source": [
    "new_df.head()"
   ]
  },
  {
   "cell_type": "code",
   "execution_count": 27,
   "metadata": {},
   "outputs": [],
   "source": [
    "from sklearn.feature_extraction.text import CountVectorizer\n",
    "Vectorizer = CountVectorizer(stop_words='english')"
   ]
  },
  {
   "cell_type": "code",
   "execution_count": 28,
   "metadata": {},
   "outputs": [],
   "source": [
    "embeddings = Vectorizer.fit_transform(new_df['words']).toarray()"
   ]
  },
  {
   "cell_type": "code",
   "execution_count": 30,
   "metadata": {},
   "outputs": [
    {
     "data": {
      "text/plain": [
       "(100, 15335)"
      ]
     },
     "execution_count": 30,
     "metadata": {},
     "output_type": "execute_result"
    }
   ],
   "source": [
    "embeddings.shape"
   ]
  },
  {
   "cell_type": "code",
   "execution_count": 31,
   "metadata": {},
   "outputs": [],
   "source": [
    "embeddings = embeddings.astype('float64')"
   ]
  },
  {
   "cell_type": "code",
   "execution_count": 33,
   "metadata": {},
   "outputs": [],
   "source": [
    "# embeddings"
   ]
  },
  {
   "cell_type": "code",
   "execution_count": 34,
   "metadata": {},
   "outputs": [],
   "source": [
    "from sklearn.manifold import TSNE"
   ]
  },
  {
   "cell_type": "code",
   "execution_count": 36,
   "metadata": {},
   "outputs": [
    {
     "name": "stdout",
     "output_type": "stream",
     "text": [
      "[t-SNE] Computing 91 nearest neighbors...\n",
      "[t-SNE] Indexed 100 samples in 0.003s...\n",
      "[t-SNE] Computed neighbors for 100 samples in 0.014s...\n",
      "[t-SNE] Computed conditional probabilities for sample 100 / 100\n",
      "[t-SNE] Mean sigma: 10.960383\n",
      "[t-SNE] KL divergence after 250 iterations with early exaggeration: 57.158421\n",
      "[t-SNE] KL divergence after 1000 iterations: 0.368634\n"
     ]
    }
   ],
   "source": [
    "tsne = TSNE(n_components=2, verbose=1, random_state=123)\n",
    "reduce = tsne.fit_transform(embeddings)"
   ]
  },
  {
   "cell_type": "code",
   "execution_count": 37,
   "metadata": {},
   "outputs": [
    {
     "data": {
      "text/plain": [
       "(100, 2)"
      ]
     },
     "execution_count": 37,
     "metadata": {},
     "output_type": "execute_result"
    }
   ],
   "source": [
    "reduce.shape"
   ]
  },
  {
   "cell_type": "code",
   "execution_count": 38,
   "metadata": {},
   "outputs": [],
   "source": [
    "new_df['x'] = reduce.T[0]\n",
    "new_df['y'] = reduce.T[1]"
   ]
  },
  {
   "cell_type": "code",
   "execution_count": 39,
   "metadata": {},
   "outputs": [
    {
     "data": {
      "text/html": [
       "<div>\n",
       "<style scoped>\n",
       "    .dataframe tbody tr th:only-of-type {\n",
       "        vertical-align: middle;\n",
       "    }\n",
       "\n",
       "    .dataframe tbody tr th {\n",
       "        vertical-align: top;\n",
       "    }\n",
       "\n",
       "    .dataframe thead th {\n",
       "        text-align: right;\n",
       "    }\n",
       "</style>\n",
       "<table border=\"1\" class=\"dataframe\">\n",
       "  <thead>\n",
       "    <tr style=\"text-align: right;\">\n",
       "      <th></th>\n",
       "      <th>character</th>\n",
       "      <th>words</th>\n",
       "      <th>num_words</th>\n",
       "      <th>x</th>\n",
       "      <th>y</th>\n",
       "    </tr>\n",
       "  </thead>\n",
       "  <tbody>\n",
       "    <tr>\n",
       "      <th>17</th>\n",
       "      <td>Tyrion Lannister</td>\n",
       "      <td>It Mmh. Northern about girls. is say the they ...</td>\n",
       "      <td>25924</td>\n",
       "      <td>-1.028853</td>\n",
       "      <td>3.119354</td>\n",
       "    </tr>\n",
       "    <tr>\n",
       "      <th>13</th>\n",
       "      <td>Cersei Lannister</td>\n",
       "      <td>And And Casterly One Rock. When about afraid. ...</td>\n",
       "      <td>14294</td>\n",
       "      <td>-0.949896</td>\n",
       "      <td>2.845529</td>\n",
       "    </tr>\n",
       "    <tr>\n",
       "      <th>3</th>\n",
       "      <td>Jon Snow</td>\n",
       "      <td>Father's Go on. watching. And mother. yourBran...</td>\n",
       "      <td>11488</td>\n",
       "      <td>-1.248091</td>\n",
       "      <td>2.599833</td>\n",
       "    </tr>\n",
       "    <tr>\n",
       "      <th>20</th>\n",
       "      <td>Daenerys Targaryen</td>\n",
       "      <td>We've a and anything. asked been for for guest...</td>\n",
       "      <td>11202</td>\n",
       "      <td>-0.311129</td>\n",
       "      <td>2.419790</td>\n",
       "    </tr>\n",
       "    <tr>\n",
       "      <th>12</th>\n",
       "      <td>Jaime Lannister</td>\n",
       "      <td>As I It's brother, duty feel it's much. my sho...</td>\n",
       "      <td>10823</td>\n",
       "      <td>-1.020555</td>\n",
       "      <td>2.596266</td>\n",
       "    </tr>\n",
       "  </tbody>\n",
       "</table>\n",
       "</div>"
      ],
      "text/plain": [
       "             character                                              words  \\\n",
       "17    Tyrion Lannister  It Mmh. Northern about girls. is say the they ...   \n",
       "13    Cersei Lannister  And And Casterly One Rock. When about afraid. ...   \n",
       "3             Jon Snow  Father's Go on. watching. And mother. yourBran...   \n",
       "20  Daenerys Targaryen  We've a and anything. asked been for for guest...   \n",
       "12     Jaime Lannister  As I It's brother, duty feel it's much. my sho...   \n",
       "\n",
       "    num_words         x         y  \n",
       "17      25924 -1.028853  3.119354  \n",
       "13      14294 -0.949896  2.845529  \n",
       "3       11488 -1.248091  2.599833  \n",
       "20      11202 -0.311129  2.419790  \n",
       "12      10823 -1.020555  2.596266  "
      ]
     },
     "execution_count": 39,
     "metadata": {},
     "output_type": "execute_result"
    }
   ],
   "source": [
    "new_df.head()"
   ]
  },
  {
   "cell_type": "code",
   "execution_count": 41,
   "metadata": {},
   "outputs": [
    {
     "data": {
      "application/vnd.plotly.v1+json": {
       "config": {
        "plotlyServerURL": "https://plot.ly"
       },
       "data": [
        {
         "hovertemplate": "character=Tyrion Lannister<br>x=%{x}<br>y=%{y}<extra></extra>",
         "legendgroup": "Tyrion Lannister",
         "marker": {
          "color": "#636efa",
          "symbol": "circle"
         },
         "mode": "markers",
         "name": "Tyrion Lannister",
         "orientation": "v",
         "showlegend": true,
         "type": "scatter",
         "x": [
          -1.0288532972335815
         ],
         "xaxis": "x",
         "y": [
          3.119354248046875
         ],
         "yaxis": "y"
        },
        {
         "hovertemplate": "character=Cersei Lannister<br>x=%{x}<br>y=%{y}<extra></extra>",
         "legendgroup": "Cersei Lannister",
         "marker": {
          "color": "#EF553B",
          "symbol": "circle"
         },
         "mode": "markers",
         "name": "Cersei Lannister",
         "orientation": "v",
         "showlegend": true,
         "type": "scatter",
         "x": [
          -0.9498957395553589
         ],
         "xaxis": "x",
         "y": [
          2.845529079437256
         ],
         "yaxis": "y"
        },
        {
         "hovertemplate": "character=Jon Snow<br>x=%{x}<br>y=%{y}<extra></extra>",
         "legendgroup": "Jon Snow",
         "marker": {
          "color": "#00cc96",
          "symbol": "circle"
         },
         "mode": "markers",
         "name": "Jon Snow",
         "orientation": "v",
         "showlegend": true,
         "type": "scatter",
         "x": [
          -1.2480913400650024
         ],
         "xaxis": "x",
         "y": [
          2.599832773208618
         ],
         "yaxis": "y"
        },
        {
         "hovertemplate": "character=Daenerys Targaryen<br>x=%{x}<br>y=%{y}<extra></extra>",
         "legendgroup": "Daenerys Targaryen",
         "marker": {
          "color": "#ab63fa",
          "symbol": "circle"
         },
         "mode": "markers",
         "name": "Daenerys Targaryen",
         "orientation": "v",
         "showlegend": true,
         "type": "scatter",
         "x": [
          -0.3111289143562317
         ],
         "xaxis": "x",
         "y": [
          2.4197897911071777
         ],
         "yaxis": "y"
        },
        {
         "hovertemplate": "character=Jaime Lannister<br>x=%{x}<br>y=%{y}<extra></extra>",
         "legendgroup": "Jaime Lannister",
         "marker": {
          "color": "#FFA15A",
          "symbol": "circle"
         },
         "mode": "markers",
         "name": "Jaime Lannister",
         "orientation": "v",
         "showlegend": true,
         "type": "scatter",
         "x": [
          -1.020554542541504
         ],
         "xaxis": "x",
         "y": [
          2.596266031265259
         ],
         "yaxis": "y"
        },
        {
         "hovertemplate": "character=Sansa Stark<br>x=%{x}<br>y=%{y}<extra></extra>",
         "legendgroup": "Sansa Stark",
         "marker": {
          "color": "#19d3f3",
          "symbol": "circle"
         },
         "mode": "markers",
         "name": "Sansa Stark",
         "orientation": "v",
         "showlegend": true,
         "type": "scatter",
         "x": [
          -0.954975962638855
         ],
         "xaxis": "x",
         "y": [
          2.2087857723236084
         ],
         "yaxis": "y"
        },
        {
         "hovertemplate": "character=Petyr Baelish<br>x=%{x}<br>y=%{y}<extra></extra>",
         "legendgroup": "Petyr Baelish",
         "marker": {
          "color": "#FF6692",
          "symbol": "circle"
         },
         "mode": "markers",
         "name": "Petyr Baelish",
         "orientation": "v",
         "showlegend": true,
         "type": "scatter",
         "x": [
          -0.29810869693756104
         ],
         "xaxis": "x",
         "y": [
          1.9382896423339844
         ],
         "yaxis": "y"
        },
        {
         "hovertemplate": "character=Lord Varys<br>x=%{x}<br>y=%{y}<extra></extra>",
         "legendgroup": "Lord Varys",
         "marker": {
          "color": "#B6E880",
          "symbol": "circle"
         },
         "mode": "markers",
         "name": "Lord Varys",
         "orientation": "v",
         "showlegend": true,
         "type": "scatter",
         "x": [
          -0.19470977783203125
         ],
         "xaxis": "x",
         "y": [
          1.809251308441162
         ],
         "yaxis": "y"
        },
        {
         "hovertemplate": "character=Davos Seaworth<br>x=%{x}<br>y=%{y}<extra></extra>",
         "legendgroup": "Davos Seaworth",
         "marker": {
          "color": "#FF97FF",
          "symbol": "circle"
         },
         "mode": "markers",
         "name": "Davos Seaworth",
         "orientation": "v",
         "showlegend": true,
         "type": "scatter",
         "x": [
          -0.32890188694000244
         ],
         "xaxis": "x",
         "y": [
          1.4865697622299194
         ],
         "yaxis": "y"
        },
        {
         "hovertemplate": "character=Samwell Tarly<br>x=%{x}<br>y=%{y}<extra></extra>",
         "legendgroup": "Samwell Tarly",
         "marker": {
          "color": "#FECB52",
          "symbol": "circle"
         },
         "mode": "markers",
         "name": "Samwell Tarly",
         "orientation": "v",
         "showlegend": true,
         "type": "scatter",
         "x": [
          -1.6019827127456665
         ],
         "xaxis": "x",
         "y": [
          1.064833402633667
         ],
         "yaxis": "y"
        },
        {
         "hovertemplate": "character=Arya Stark<br>x=%{x}<br>y=%{y}<extra></extra>",
         "legendgroup": "Arya Stark",
         "marker": {
          "color": "#636efa",
          "symbol": "circle"
         },
         "mode": "markers",
         "name": "Arya Stark",
         "orientation": "v",
         "showlegend": true,
         "type": "scatter",
         "x": [
          -1.6849807500839233
         ],
         "xaxis": "x",
         "y": [
          1.6672760248184204
         ],
         "yaxis": "y"
        },
        {
         "hovertemplate": "character=Tywin Lannister<br>x=%{x}<br>y=%{y}<extra></extra>",
         "legendgroup": "Tywin Lannister",
         "marker": {
          "color": "#EF553B",
          "symbol": "circle"
         },
         "mode": "markers",
         "name": "Tywin Lannister",
         "orientation": "v",
         "showlegend": true,
         "type": "scatter",
         "x": [
          0.3952402174472809
         ],
         "xaxis": "x",
         "y": [
          0.8293799161911011
         ],
         "yaxis": "y"
        },
        {
         "hovertemplate": "character=Theon Greyjoy<br>x=%{x}<br>y=%{y}<extra></extra>",
         "legendgroup": "Theon Greyjoy",
         "marker": {
          "color": "#00cc96",
          "symbol": "circle"
         },
         "mode": "markers",
         "name": "Theon Greyjoy",
         "orientation": "v",
         "showlegend": true,
         "type": "scatter",
         "x": [
          -1.088432788848877
         ],
         "xaxis": "x",
         "y": [
          1.1079908609390259
         ],
         "yaxis": "y"
        },
        {
         "hovertemplate": "character=Jorah Mormont<br>x=%{x}<br>y=%{y}<extra></extra>",
         "legendgroup": "Jorah Mormont",
         "marker": {
          "color": "#ab63fa",
          "symbol": "circle"
         },
         "mode": "markers",
         "name": "Jorah Mormont",
         "orientation": "v",
         "showlegend": true,
         "type": "scatter",
         "x": [
          1.0436046123504639
         ],
         "xaxis": "x",
         "y": [
          0.8826242089271545
         ],
         "yaxis": "y"
        },
        {
         "hovertemplate": "character=Bronn<br>x=%{x}<br>y=%{y}<extra></extra>",
         "legendgroup": "Bronn",
         "marker": {
          "color": "#FFA15A",
          "symbol": "circle"
         },
         "mode": "markers",
         "name": "Bronn",
         "orientation": "v",
         "showlegend": true,
         "type": "scatter",
         "x": [
          -2.43658185005188
         ],
         "xaxis": "x",
         "y": [
          0.820589542388916
         ],
         "yaxis": "y"
        },
        {
         "hovertemplate": "character=Olenna Tyrell<br>x=%{x}<br>y=%{y}<extra></extra>",
         "legendgroup": "Olenna Tyrell",
         "marker": {
          "color": "#19d3f3",
          "symbol": "circle"
         },
         "mode": "markers",
         "name": "Olenna Tyrell",
         "orientation": "v",
         "showlegend": true,
         "type": "scatter",
         "x": [
          0.5433465242385864
         ],
         "xaxis": "x",
         "y": [
          -0.8846608400344849
         ],
         "yaxis": "y"
        },
        {
         "hovertemplate": "character=Brienne of Tarth<br>x=%{x}<br>y=%{y}<extra></extra>",
         "legendgroup": "Brienne of Tarth",
         "marker": {
          "color": "#FF6692",
          "symbol": "circle"
         },
         "mode": "markers",
         "name": "Brienne of Tarth",
         "orientation": "v",
         "showlegend": true,
         "type": "scatter",
         "x": [
          0.8965339064598083
         ],
         "xaxis": "x",
         "y": [
          -0.02359507605433464
         ],
         "yaxis": "y"
        },
        {
         "hovertemplate": "character=Sandor Clegane<br>x=%{x}<br>y=%{y}<extra></extra>",
         "legendgroup": "Sandor Clegane",
         "marker": {
          "color": "#B6E880",
          "symbol": "circle"
         },
         "mode": "markers",
         "name": "Sandor Clegane",
         "orientation": "v",
         "showlegend": true,
         "type": "scatter",
         "x": [
          -2.5134754180908203
         ],
         "xaxis": "x",
         "y": [
          0.7720316648483276
         ],
         "yaxis": "y"
        },
        {
         "hovertemplate": "character=Robb Stark<br>x=%{x}<br>y=%{y}<extra></extra>",
         "legendgroup": "Robb Stark",
         "marker": {
          "color": "#FF97FF",
          "symbol": "circle"
         },
         "mode": "markers",
         "name": "Robb Stark",
         "orientation": "v",
         "showlegend": true,
         "type": "scatter",
         "x": [
          -0.6767107248306274
         ],
         "xaxis": "x",
         "y": [
          0.7674461603164673
         ],
         "yaxis": "y"
        },
        {
         "hovertemplate": "character=Stannis Baratheon<br>x=%{x}<br>y=%{y}<extra></extra>",
         "legendgroup": "Stannis Baratheon",
         "marker": {
          "color": "#FECB52",
          "symbol": "circle"
         },
         "mode": "markers",
         "name": "Stannis Baratheon",
         "orientation": "v",
         "showlegend": true,
         "type": "scatter",
         "x": [
          -0.17815491557121277
         ],
         "xaxis": "x",
         "y": [
          0.6191625595092773
         ],
         "yaxis": "y"
        },
        {
         "hovertemplate": "character=Margaery Tyrell<br>x=%{x}<br>y=%{y}<extra></extra>",
         "legendgroup": "Margaery Tyrell",
         "marker": {
          "color": "#636efa",
          "symbol": "circle"
         },
         "mode": "markers",
         "name": "Margaery Tyrell",
         "orientation": "v",
         "showlegend": true,
         "type": "scatter",
         "x": [
          1.3175792694091797
         ],
         "xaxis": "x",
         "y": [
          -1.1687582731246948
         ],
         "yaxis": "y"
        },
        {
         "hovertemplate": "character=Catelyn Stark<br>x=%{x}<br>y=%{y}<extra></extra>",
         "legendgroup": "Catelyn Stark",
         "marker": {
          "color": "#EF553B",
          "symbol": "circle"
         },
         "mode": "markers",
         "name": "Catelyn Stark",
         "orientation": "v",
         "showlegend": true,
         "type": "scatter",
         "x": [
          -0.5258589386940002
         ],
         "xaxis": "x",
         "y": [
          0.31132128834724426
         ],
         "yaxis": "y"
        },
        {
         "hovertemplate": "character=Eddard Stark<br>x=%{x}<br>y=%{y}<extra></extra>",
         "legendgroup": "Eddard Stark",
         "marker": {
          "color": "#00cc96",
          "symbol": "circle"
         },
         "mode": "markers",
         "name": "Eddard Stark",
         "orientation": "v",
         "showlegend": true,
         "type": "scatter",
         "x": [
          0.13816018402576447
         ],
         "xaxis": "x",
         "y": [
          0.4433566629886627
         ],
         "yaxis": "y"
        },
        {
         "hovertemplate": "character=Ramsay Snow<br>x=%{x}<br>y=%{y}<extra></extra>",
         "legendgroup": "Ramsay Snow",
         "marker": {
          "color": "#ab63fa",
          "symbol": "circle"
         },
         "mode": "markers",
         "name": "Ramsay Snow",
         "orientation": "v",
         "showlegend": true,
         "type": "scatter",
         "x": [
          -1.2943395376205444
         ],
         "xaxis": "x",
         "y": [
          -0.25886908173561096
         ],
         "yaxis": "y"
        },
        {
         "hovertemplate": "character=Melisandre<br>x=%{x}<br>y=%{y}<extra></extra>",
         "legendgroup": "Melisandre",
         "marker": {
          "color": "#FFA15A",
          "symbol": "circle"
         },
         "mode": "markers",
         "name": "Melisandre",
         "orientation": "v",
         "showlegend": true,
         "type": "scatter",
         "x": [
          -0.9255960583686829
         ],
         "xaxis": "x",
         "y": [
          -1.2670997381210327
         ],
         "yaxis": "y"
        },
        {
         "hovertemplate": "character=Joffrey Baratheon<br>x=%{x}<br>y=%{y}<extra></extra>",
         "legendgroup": "Joffrey Baratheon",
         "marker": {
          "color": "#19d3f3",
          "symbol": "circle"
         },
         "mode": "markers",
         "name": "Joffrey Baratheon",
         "orientation": "v",
         "showlegend": true,
         "type": "scatter",
         "x": [
          0.9728890061378479
         ],
         "xaxis": "x",
         "y": [
          -0.23101840913295746
         ],
         "yaxis": "y"
        },
        {
         "hovertemplate": "character=Bran Stark<br>x=%{x}<br>y=%{y}<extra></extra>",
         "legendgroup": "Bran Stark",
         "marker": {
          "color": "#FF6692",
          "symbol": "circle"
         },
         "mode": "markers",
         "name": "Bran Stark",
         "orientation": "v",
         "showlegend": true,
         "type": "scatter",
         "x": [
          -1.872532606124878
         ],
         "xaxis": "x",
         "y": [
          -0.09786510467529297
         ],
         "yaxis": "y"
        },
        {
         "hovertemplate": "character=High Sparrow<br>x=%{x}<br>y=%{y}<extra></extra>",
         "legendgroup": "High Sparrow",
         "marker": {
          "color": "#B6E880",
          "symbol": "circle"
         },
         "mode": "markers",
         "name": "High Sparrow",
         "orientation": "v",
         "showlegend": true,
         "type": "scatter",
         "x": [
          2.010148286819458
         ],
         "xaxis": "x",
         "y": [
          -2.400653123855591
         ],
         "yaxis": "y"
        },
        {
         "hovertemplate": "character=Robert Baratheon<br>x=%{x}<br>y=%{y}<extra></extra>",
         "legendgroup": "Robert Baratheon",
         "marker": {
          "color": "#FF97FF",
          "symbol": "circle"
         },
         "mode": "markers",
         "name": "Robert Baratheon",
         "orientation": "v",
         "showlegend": true,
         "type": "scatter",
         "x": [
          0.2938317656517029
         ],
         "xaxis": "x",
         "y": [
          0.049468450248241425
         ],
         "yaxis": "y"
        },
        {
         "hovertemplate": "character=Daario Naharis<br>x=%{x}<br>y=%{y}<extra></extra>",
         "legendgroup": "Daario Naharis",
         "marker": {
          "color": "#FECB52",
          "symbol": "circle"
         },
         "mode": "markers",
         "name": "Daario Naharis",
         "orientation": "v",
         "showlegend": true,
         "type": "scatter",
         "x": [
          1.7008471488952637
         ],
         "xaxis": "x",
         "y": [
          -4.324535369873047
         ],
         "yaxis": "y"
        },
        {
         "hovertemplate": "character=Tormund Giantsbane<br>x=%{x}<br>y=%{y}<extra></extra>",
         "legendgroup": "Tormund Giantsbane",
         "marker": {
          "color": "#636efa",
          "symbol": "circle"
         },
         "mode": "markers",
         "name": "Tormund Giantsbane",
         "orientation": "v",
         "showlegend": true,
         "type": "scatter",
         "x": [
          -2.6644632816314697
         ],
         "xaxis": "x",
         "y": [
          -0.7439609169960022
         ],
         "yaxis": "y"
        },
        {
         "hovertemplate": "character=Ygritte<br>x=%{x}<br>y=%{y}<extra></extra>",
         "legendgroup": "Ygritte",
         "marker": {
          "color": "#EF553B",
          "symbol": "circle"
         },
         "mode": "markers",
         "name": "Ygritte",
         "orientation": "v",
         "showlegend": true,
         "type": "scatter",
         "x": [
          -3.0032384395599365
         ],
         "xaxis": "x",
         "y": [
          -1.1324862241744995
         ],
         "yaxis": "y"
        },
        {
         "hovertemplate": "character=Roose Bolton<br>x=%{x}<br>y=%{y}<extra></extra>",
         "legendgroup": "Roose Bolton",
         "marker": {
          "color": "#00cc96",
          "symbol": "circle"
         },
         "mode": "markers",
         "name": "Roose Bolton",
         "orientation": "v",
         "showlegend": true,
         "type": "scatter",
         "x": [
          -2.9535040855407715
         ],
         "xaxis": "x",
         "y": [
          -5.373350143432617
         ],
         "yaxis": "y"
        },
        {
         "hovertemplate": "character=Grand Maester Pycelle<br>x=%{x}<br>y=%{y}<extra></extra>",
         "legendgroup": "Grand Maester Pycelle",
         "marker": {
          "color": "#ab63fa",
          "symbol": "circle"
         },
         "mode": "markers",
         "name": "Grand Maester Pycelle",
         "orientation": "v",
         "showlegend": true,
         "type": "scatter",
         "x": [
          0.5040073394775391
         ],
         "xaxis": "x",
         "y": [
          -6.683494567871094
         ],
         "yaxis": "y"
        },
        {
         "hovertemplate": "character=Oberyn Martell<br>x=%{x}<br>y=%{y}<extra></extra>",
         "legendgroup": "Oberyn Martell",
         "marker": {
          "color": "#FFA15A",
          "symbol": "circle"
         },
         "mode": "markers",
         "name": "Oberyn Martell",
         "orientation": "v",
         "showlegend": true,
         "type": "scatter",
         "x": [
          -3.9186031818389893
         ],
         "xaxis": "x",
         "y": [
          -3.2616899013519287
         ],
         "yaxis": "y"
        },
        {
         "hovertemplate": "character=Alliser Thorne<br>x=%{x}<br>y=%{y}<extra></extra>",
         "legendgroup": "Alliser Thorne",
         "marker": {
          "color": "#19d3f3",
          "symbol": "circle"
         },
         "mode": "markers",
         "name": "Alliser Thorne",
         "orientation": "v",
         "showlegend": true,
         "type": "scatter",
         "x": [
          -3.381385564804077
         ],
         "xaxis": "x",
         "y": [
          -2.365516185760498
         ],
         "yaxis": "y"
        },
        {
         "hovertemplate": "character=Missandei<br>x=%{x}<br>y=%{y}<extra></extra>",
         "legendgroup": "Missandei",
         "marker": {
          "color": "#FF6692",
          "symbol": "circle"
         },
         "mode": "markers",
         "name": "Missandei",
         "orientation": "v",
         "showlegend": true,
         "type": "scatter",
         "x": [
          0.9848098754882812
         ],
         "xaxis": "x",
         "y": [
          -5.524768829345703
         ],
         "yaxis": "y"
        },
        {
         "hovertemplate": "character=Gendry<br>x=%{x}<br>y=%{y}<extra></extra>",
         "legendgroup": "Gendry",
         "marker": {
          "color": "#B6E880",
          "symbol": "circle"
         },
         "mode": "markers",
         "name": "Gendry",
         "orientation": "v",
         "showlegend": true,
         "type": "scatter",
         "x": [
          -0.7338931560516357
         ],
         "xaxis": "x",
         "y": [
          -0.6618624925613403
         ],
         "yaxis": "y"
        },
        {
         "hovertemplate": "character=Yara Greyjoy<br>x=%{x}<br>y=%{y}<extra></extra>",
         "legendgroup": "Yara Greyjoy",
         "marker": {
          "color": "#FF97FF",
          "symbol": "circle"
         },
         "mode": "markers",
         "name": "Yara Greyjoy",
         "orientation": "v",
         "showlegend": true,
         "type": "scatter",
         "x": [
          -2.0062525272369385
         ],
         "xaxis": "x",
         "y": [
          -1.374457836151123
         ],
         "yaxis": "y"
        },
        {
         "hovertemplate": "character=Osha<br>x=%{x}<br>y=%{y}<extra></extra>",
         "legendgroup": "Osha",
         "marker": {
          "color": "#FECB52",
          "symbol": "circle"
         },
         "mode": "markers",
         "name": "Osha",
         "orientation": "v",
         "showlegend": true,
         "type": "scatter",
         "x": [
          -1.5541585683822632
         ],
         "xaxis": "x",
         "y": [
          -1.0152010917663574
         ],
         "yaxis": "y"
        },
        {
         "hovertemplate": "character=Shae<br>x=%{x}<br>y=%{y}<extra></extra>",
         "legendgroup": "Shae",
         "marker": {
          "color": "#636efa",
          "symbol": "circle"
         },
         "mode": "markers",
         "name": "Shae",
         "orientation": "v",
         "showlegend": true,
         "type": "scatter",
         "x": [
          0.7749845385551453
         ],
         "xaxis": "x",
         "y": [
          -1.7577850818634033
         ],
         "yaxis": "y"
        },
        {
         "hovertemplate": "character=Walder Frey<br>x=%{x}<br>y=%{y}<extra></extra>",
         "legendgroup": "Walder Frey",
         "marker": {
          "color": "#EF553B",
          "symbol": "circle"
         },
         "mode": "markers",
         "name": "Walder Frey",
         "orientation": "v",
         "showlegend": true,
         "type": "scatter",
         "x": [
          0.06034442037343979
         ],
         "xaxis": "x",
         "y": [
          -3.397693634033203
         ],
         "yaxis": "y"
        },
        {
         "hovertemplate": "character=Jeor Mormont<br>x=%{x}<br>y=%{y}<extra></extra>",
         "legendgroup": "Jeor Mormont",
         "marker": {
          "color": "#00cc96",
          "symbol": "circle"
         },
         "mode": "markers",
         "name": "Jeor Mormont",
         "orientation": "v",
         "showlegend": true,
         "type": "scatter",
         "x": [
          -3.006469249725342
         ],
         "xaxis": "x",
         "y": [
          -3.2774131298065186
         ],
         "yaxis": "y"
        },
        {
         "hovertemplate": "character=Gilly<br>x=%{x}<br>y=%{y}<extra></extra>",
         "legendgroup": "Gilly",
         "marker": {
          "color": "#ab63fa",
          "symbol": "circle"
         },
         "mode": "markers",
         "name": "Gilly",
         "orientation": "v",
         "showlegend": true,
         "type": "scatter",
         "x": [
          -2.582881212234497
         ],
         "xaxis": "x",
         "y": [
          -2.6727511882781982
         ],
         "yaxis": "y"
        },
        {
         "hovertemplate": "character=Jaqen H'ghar<br>x=%{x}<br>y=%{y}<extra></extra>",
         "legendgroup": "Jaqen H'ghar",
         "marker": {
          "color": "#FFA15A",
          "symbol": "circle"
         },
         "mode": "markers",
         "name": "Jaqen H'ghar",
         "orientation": "v",
         "showlegend": true,
         "type": "scatter",
         "x": [
          -2.4857325553894043
         ],
         "xaxis": "x",
         "y": [
          -6.532540321350098
         ],
         "yaxis": "y"
        },
        {
         "hovertemplate": "character=Renly Baratheon<br>x=%{x}<br>y=%{y}<extra></extra>",
         "legendgroup": "Renly Baratheon",
         "marker": {
          "color": "#19d3f3",
          "symbol": "circle"
         },
         "mode": "markers",
         "name": "Renly Baratheon",
         "orientation": "v",
         "showlegend": true,
         "type": "scatter",
         "x": [
          0.31143859028816223
         ],
         "xaxis": "x",
         "y": [
          -1.6434508562088013
         ],
         "yaxis": "y"
        },
        {
         "hovertemplate": "character=Maester Aemon<br>x=%{x}<br>y=%{y}<extra></extra>",
         "legendgroup": "Maester Aemon",
         "marker": {
          "color": "#FF6692",
          "symbol": "circle"
         },
         "mode": "markers",
         "name": "Maester Aemon",
         "orientation": "v",
         "showlegend": true,
         "type": "scatter",
         "x": [
          -3.164005994796753
         ],
         "xaxis": "x",
         "y": [
          -4.072895526885986
         ],
         "yaxis": "y"
        },
        {
         "hovertemplate": "character=Tommen Baratheon<br>x=%{x}<br>y=%{y}<extra></extra>",
         "legendgroup": "Tommen Baratheon",
         "marker": {
          "color": "#B6E880",
          "symbol": "circle"
         },
         "mode": "markers",
         "name": "Tommen Baratheon",
         "orientation": "v",
         "showlegend": true,
         "type": "scatter",
         "x": [
          1.455081582069397
         ],
         "xaxis": "x",
         "y": [
          -1.912009596824646
         ],
         "yaxis": "y"
        },
        {
         "hovertemplate": "character=Qyburn<br>x=%{x}<br>y=%{y}<extra></extra>",
         "legendgroup": "Qyburn",
         "marker": {
          "color": "#FF97FF",
          "symbol": "circle"
         },
         "mode": "markers",
         "name": "Qyburn",
         "orientation": "v",
         "showlegend": true,
         "type": "scatter",
         "x": [
          0.24930870532989502
         ],
         "xaxis": "x",
         "y": [
          -5.8878493309021
         ],
         "yaxis": "y"
        },
        {
         "hovertemplate": "character=Euron Greyjoy<br>x=%{x}<br>y=%{y}<extra></extra>",
         "legendgroup": "Euron Greyjoy",
         "marker": {
          "color": "#FECB52",
          "symbol": "circle"
         },
         "mode": "markers",
         "name": "Euron Greyjoy",
         "orientation": "v",
         "showlegend": true,
         "type": "scatter",
         "x": [
          -1.9608025550842285
         ],
         "xaxis": "x",
         "y": [
          -2.1608643531799316
         ],
         "yaxis": "y"
        },
        {
         "hovertemplate": "character=Lysa Arryn<br>x=%{x}<br>y=%{y}<extra></extra>",
         "legendgroup": "Lysa Arryn",
         "marker": {
          "color": "#636efa",
          "symbol": "circle"
         },
         "mode": "markers",
         "name": "Lysa Arryn",
         "orientation": "v",
         "showlegend": true,
         "type": "scatter",
         "x": [
          0.3940166234970093
         ],
         "xaxis": "x",
         "y": [
          -2.6353375911712646
         ],
         "yaxis": "y"
        },
        {
         "hovertemplate": "character=Barristan Selmy<br>x=%{x}<br>y=%{y}<extra></extra>",
         "legendgroup": "Barristan Selmy",
         "marker": {
          "color": "#EF553B",
          "symbol": "circle"
         },
         "mode": "markers",
         "name": "Barristan Selmy",
         "orientation": "v",
         "showlegend": true,
         "type": "scatter",
         "x": [
          0.32414937019348145
         ],
         "xaxis": "x",
         "y": [
          -6.232964038848877
         ],
         "yaxis": "y"
        },
        {
         "hovertemplate": "character=Talisa Maegyr<br>x=%{x}<br>y=%{y}<extra></extra>",
         "legendgroup": "Talisa Maegyr",
         "marker": {
          "color": "#00cc96",
          "symbol": "circle"
         },
         "mode": "markers",
         "name": "Talisa Maegyr",
         "orientation": "v",
         "showlegend": true,
         "type": "scatter",
         "x": [
          -0.20947977900505066
         ],
         "xaxis": "x",
         "y": [
          -2.447878360748291
         ],
         "yaxis": "y"
        },
        {
         "hovertemplate": "character=Thoros Of Myr<br>x=%{x}<br>y=%{y}<extra></extra>",
         "legendgroup": "Thoros Of Myr",
         "marker": {
          "color": "#ab63fa",
          "symbol": "circle"
         },
         "mode": "markers",
         "name": "Thoros Of Myr",
         "orientation": "v",
         "showlegend": true,
         "type": "scatter",
         "x": [
          -1.3605856895446777
         ],
         "xaxis": "x",
         "y": [
          -2.692537307739258
         ],
         "yaxis": "y"
        },
        {
         "hovertemplate": "character=Mance Rayder<br>x=%{x}<br>y=%{y}<extra></extra>",
         "legendgroup": "Mance Rayder",
         "marker": {
          "color": "#FFA15A",
          "symbol": "circle"
         },
         "mode": "markers",
         "name": "Mance Rayder",
         "orientation": "v",
         "showlegend": true,
         "type": "scatter",
         "x": [
          -2.5956902503967285
         ],
         "xaxis": "x",
         "y": [
          -1.8215898275375366
         ],
         "yaxis": "y"
        },
        {
         "hovertemplate": "character=Podrick Payne<br>x=%{x}<br>y=%{y}<extra></extra>",
         "legendgroup": "Podrick Payne",
         "marker": {
          "color": "#19d3f3",
          "symbol": "circle"
         },
         "mode": "markers",
         "name": "Podrick Payne",
         "orientation": "v",
         "showlegend": true,
         "type": "scatter",
         "x": [
          -0.6489278674125671
         ],
         "xaxis": "x",
         "y": [
          -2.088168144226074
         ],
         "yaxis": "y"
        },
        {
         "hovertemplate": "character=Viserys Targaryen<br>x=%{x}<br>y=%{y}<extra></extra>",
         "legendgroup": "Viserys Targaryen",
         "marker": {
          "color": "#FF6692",
          "symbol": "circle"
         },
         "mode": "markers",
         "name": "Viserys Targaryen",
         "orientation": "v",
         "showlegend": true,
         "type": "scatter",
         "x": [
          0.7856629490852356
         ],
         "xaxis": "x",
         "y": [
          -4.262429237365723
         ],
         "yaxis": "y"
        },
        {
         "hovertemplate": "character=Beric Dondarrion<br>x=%{x}<br>y=%{y}<extra></extra>",
         "legendgroup": "Beric Dondarrion",
         "marker": {
          "color": "#B6E880",
          "symbol": "circle"
         },
         "mode": "markers",
         "name": "Beric Dondarrion",
         "orientation": "v",
         "showlegend": true,
         "type": "scatter",
         "x": [
          -0.9436964988708496
         ],
         "xaxis": "x",
         "y": [
          -1.5489641427993774
         ],
         "yaxis": "y"
        },
        {
         "hovertemplate": "character=Grey Worm<br>x=%{x}<br>y=%{y}<extra></extra>",
         "legendgroup": "Grey Worm",
         "marker": {
          "color": "#FF97FF",
          "symbol": "circle"
         },
         "mode": "markers",
         "name": "Grey Worm",
         "orientation": "v",
         "showlegend": true,
         "type": "scatter",
         "x": [
          0.5426731705665588
         ],
         "xaxis": "x",
         "y": [
          -5.195124626159668
         ],
         "yaxis": "y"
        },
        {
         "hovertemplate": "character=Maester Luwin<br>x=%{x}<br>y=%{y}<extra></extra>",
         "legendgroup": "Maester Luwin",
         "marker": {
          "color": "#FECB52",
          "symbol": "circle"
         },
         "mode": "markers",
         "name": "Maester Luwin",
         "orientation": "v",
         "showlegend": true,
         "type": "scatter",
         "x": [
          -0.8800240755081177
         ],
         "xaxis": "x",
         "y": [
          -2.03764271736145
         ],
         "yaxis": "y"
        },
        {
         "hovertemplate": "character=Loras Tyrell<br>x=%{x}<br>y=%{y}<extra></extra>",
         "legendgroup": "Loras Tyrell",
         "marker": {
          "color": "#636efa",
          "symbol": "circle"
         },
         "mode": "markers",
         "name": "Loras Tyrell",
         "orientation": "v",
         "showlegend": true,
         "type": "scatter",
         "x": [
          0.7254362106323242
         ],
         "xaxis": "x",
         "y": [
          -2.446951150894165
         ],
         "yaxis": "y"
        },
        {
         "hovertemplate": "character=Shireen Baratheon<br>x=%{x}<br>y=%{y}<extra></extra>",
         "legendgroup": "Shireen Baratheon",
         "marker": {
          "color": "#EF553B",
          "symbol": "circle"
         },
         "mode": "markers",
         "name": "Shireen Baratheon",
         "orientation": "v",
         "showlegend": true,
         "type": "scatter",
         "x": [
          0.9957966804504395
         ],
         "xaxis": "x",
         "y": [
          -3.3398146629333496
         ],
         "yaxis": "y"
        },
        {
         "hovertemplate": "character=Yoren<br>x=%{x}<br>y=%{y}<extra></extra>",
         "legendgroup": "Yoren",
         "marker": {
          "color": "#00cc96",
          "symbol": "circle"
         },
         "mode": "markers",
         "name": "Yoren",
         "orientation": "v",
         "showlegend": true,
         "type": "scatter",
         "x": [
          -2.181814432144165
         ],
         "xaxis": "x",
         "y": [
          -3.2015535831451416
         ],
         "yaxis": "y"
        },
        {
         "hovertemplate": "character=Hot Pie<br>x=%{x}<br>y=%{y}<extra></extra>",
         "legendgroup": "Hot Pie",
         "marker": {
          "color": "#ab63fa",
          "symbol": "circle"
         },
         "mode": "markers",
         "name": "Hot Pie",
         "orientation": "v",
         "showlegend": true,
         "type": "scatter",
         "x": [
          -2.403411865234375
         ],
         "xaxis": "x",
         "y": [
          -3.9966583251953125
         ],
         "yaxis": "y"
        },
        {
         "hovertemplate": "character=Archmaester Ebrose<br>x=%{x}<br>y=%{y}<extra></extra>",
         "legendgroup": "Archmaester Ebrose",
         "marker": {
          "color": "#FFA15A",
          "symbol": "circle"
         },
         "mode": "markers",
         "name": "Archmaester Ebrose",
         "orientation": "v",
         "showlegend": true,
         "type": "scatter",
         "x": [
          -0.05138134956359863
         ],
         "xaxis": "x",
         "y": [
          -4.365696430206299
         ],
         "yaxis": "y"
        },
        {
         "hovertemplate": "character=Eddison Tollett<br>x=%{x}<br>y=%{y}<extra></extra>",
         "legendgroup": "Eddison Tollett",
         "marker": {
          "color": "#19d3f3",
          "symbol": "circle"
         },
         "mode": "markers",
         "name": "Eddison Tollett",
         "orientation": "v",
         "showlegend": true,
         "type": "scatter",
         "x": [
          -1.5509392023086548
         ],
         "xaxis": "x",
         "y": [
          -3.2150638103485107
         ],
         "yaxis": "y"
        },
        {
         "hovertemplate": "character=Qhorin Halfhand<br>x=%{x}<br>y=%{y}<extra></extra>",
         "legendgroup": "Qhorin Halfhand",
         "marker": {
          "color": "#FF6692",
          "symbol": "circle"
         },
         "mode": "markers",
         "name": "Qhorin Halfhand",
         "orientation": "v",
         "showlegend": true,
         "type": "scatter",
         "x": [
          -2.004715919494629
         ],
         "xaxis": "x",
         "y": [
          -2.738076686859131
         ],
         "yaxis": "y"
        },
        {
         "hovertemplate": "character=Hizdahr zo Loraq<br>x=%{x}<br>y=%{y}<extra></extra>",
         "legendgroup": "Hizdahr zo Loraq",
         "marker": {
          "color": "#B6E880",
          "symbol": "circle"
         },
         "mode": "markers",
         "name": "Hizdahr zo Loraq",
         "orientation": "v",
         "showlegend": true,
         "type": "scatter",
         "x": [
          0.49423420429229736
         ],
         "xaxis": "x",
         "y": [
          -4.9805169105529785
         ],
         "yaxis": "y"
        },
        {
         "hovertemplate": "character=Xaro Xhoan Daxos<br>x=%{x}<br>y=%{y}<extra></extra>",
         "legendgroup": "Xaro Xhoan Daxos",
         "marker": {
          "color": "#FF97FF",
          "symbol": "circle"
         },
         "mode": "markers",
         "name": "Xaro Xhoan Daxos",
         "orientation": "v",
         "showlegend": true,
         "type": "scatter",
         "x": [
          -1.213803768157959
         ],
         "xaxis": "x",
         "y": [
          -5.524504661560059
         ],
         "yaxis": "y"
        },
        {
         "hovertemplate": "character=Balon Greyjoy<br>x=%{x}<br>y=%{y}<extra></extra>",
         "legendgroup": "Balon Greyjoy",
         "marker": {
          "color": "#FECB52",
          "symbol": "circle"
         },
         "mode": "markers",
         "name": "Balon Greyjoy",
         "orientation": "v",
         "showlegend": true,
         "type": "scatter",
         "x": [
          -1.5888315439224243
         ],
         "xaxis": "x",
         "y": [
          -4.806175708770752
         ],
         "yaxis": "y"
        },
        {
         "hovertemplate": "character=Ellaria Sand<br>x=%{x}<br>y=%{y}<extra></extra>",
         "legendgroup": "Ellaria Sand",
         "marker": {
          "color": "#636efa",
          "symbol": "circle"
         },
         "mode": "markers",
         "name": "Ellaria Sand",
         "orientation": "v",
         "showlegend": true,
         "type": "scatter",
         "x": [
          -0.3649587631225586
         ],
         "xaxis": "x",
         "y": [
          -3.984306573867798
         ],
         "yaxis": "y"
        },
        {
         "hovertemplate": "character=Ros<br>x=%{x}<br>y=%{y}<extra></extra>",
         "legendgroup": "Ros",
         "marker": {
          "color": "#EF553B",
          "symbol": "circle"
         },
         "mode": "markers",
         "name": "Ros",
         "orientation": "v",
         "showlegend": true,
         "type": "scatter",
         "x": [
          -0.5309523344039917
         ],
         "xaxis": "x",
         "y": [
          -2.830094814300537
         ],
         "yaxis": "y"
        },
        {
         "hovertemplate": "character=Brynden Tully<br>x=%{x}<br>y=%{y}<extra></extra>",
         "legendgroup": "Brynden Tully",
         "marker": {
          "color": "#00cc96",
          "symbol": "circle"
         },
         "mode": "markers",
         "name": "Brynden Tully",
         "orientation": "v",
         "showlegend": true,
         "type": "scatter",
         "x": [
          -0.43909600377082825
         ],
         "xaxis": "x",
         "y": [
          -3.4893946647644043
         ],
         "yaxis": "y"
        },
        {
         "hovertemplate": "character=Grenn<br>x=%{x}<br>y=%{y}<extra></extra>",
         "legendgroup": "Grenn",
         "marker": {
          "color": "#ab63fa",
          "symbol": "circle"
         },
         "mode": "markers",
         "name": "Grenn",
         "orientation": "v",
         "showlegend": true,
         "type": "scatter",
         "x": [
          -2.436035394668579
         ],
         "xaxis": "x",
         "y": [
          -4.476933479309082
         ],
         "yaxis": "y"
        },
        {
         "hovertemplate": "character=Janos Slynt<br>x=%{x}<br>y=%{y}<extra></extra>",
         "legendgroup": "Janos Slynt",
         "marker": {
          "color": "#FFA15A",
          "symbol": "circle"
         },
         "mode": "markers",
         "name": "Janos Slynt",
         "orientation": "v",
         "showlegend": true,
         "type": "scatter",
         "x": [
          -1.6099249124526978
         ],
         "xaxis": "x",
         "y": [
          -4.244492053985596
         ],
         "yaxis": "y"
        },
        {
         "hovertemplate": "character=Lancel Lannister<br>x=%{x}<br>y=%{y}<extra></extra>",
         "legendgroup": "Lancel Lannister",
         "marker": {
          "color": "#19d3f3",
          "symbol": "circle"
         },
         "mode": "markers",
         "name": "Lancel Lannister",
         "orientation": "v",
         "showlegend": true,
         "type": "scatter",
         "x": [
          -0.2722640037536621
         ],
         "xaxis": "x",
         "y": [
          -5.388282299041748
         ],
         "yaxis": "y"
        },
        {
         "hovertemplate": "character=Salladhor Saan<br>x=%{x}<br>y=%{y}<extra></extra>",
         "legendgroup": "Salladhor Saan",
         "marker": {
          "color": "#FF6692",
          "symbol": "circle"
         },
         "mode": "markers",
         "name": "Salladhor Saan",
         "orientation": "v",
         "showlegend": true,
         "type": "scatter",
         "x": [
          -0.9424390196800232
         ],
         "xaxis": "x",
         "y": [
          -4.875556945800781
         ],
         "yaxis": "y"
        },
        {
         "hovertemplate": "character=Locke<br>x=%{x}<br>y=%{y}<extra></extra>",
         "legendgroup": "Locke",
         "marker": {
          "color": "#B6E880",
          "symbol": "circle"
         },
         "mode": "markers",
         "name": "Locke",
         "orientation": "v",
         "showlegend": true,
         "type": "scatter",
         "x": [
          -1.3959975242614746
         ],
         "xaxis": "x",
         "y": [
          -3.5648229122161865
         ],
         "yaxis": "y"
        },
        {
         "hovertemplate": "character=Brother Ray<br>x=%{x}<br>y=%{y}<extra></extra>",
         "legendgroup": "Brother Ray",
         "marker": {
          "color": "#FF97FF",
          "symbol": "circle"
         },
         "mode": "markers",
         "name": "Brother Ray",
         "orientation": "v",
         "showlegend": true,
         "type": "scatter",
         "x": [
          -0.6110659837722778
         ],
         "xaxis": "x",
         "y": [
          -3.587822198867798
         ],
         "yaxis": "y"
        },
        {
         "hovertemplate": "character=Meera Reed<br>x=%{x}<br>y=%{y}<extra></extra>",
         "legendgroup": "Meera Reed",
         "marker": {
          "color": "#FECB52",
          "symbol": "circle"
         },
         "mode": "markers",
         "name": "Meera Reed",
         "orientation": "v",
         "showlegend": true,
         "type": "scatter",
         "x": [
          -1.6580148935317993
         ],
         "xaxis": "x",
         "y": [
          -6.522735118865967
         ],
         "yaxis": "y"
        },
        {
         "hovertemplate": "character=Tycho Nestoris<br>x=%{x}<br>y=%{y}<extra></extra>",
         "legendgroup": "Tycho Nestoris",
         "marker": {
          "color": "#636efa",
          "symbol": "circle"
         },
         "mode": "markers",
         "name": "Tycho Nestoris",
         "orientation": "v",
         "showlegend": true,
         "type": "scatter",
         "x": [
          -0.5202848315238953
         ],
         "xaxis": "x",
         "y": [
          -5.204702377319336
         ],
         "yaxis": "y"
        },
        {
         "hovertemplate": "character=Edmure Tully<br>x=%{x}<br>y=%{y}<extra></extra>",
         "legendgroup": "Edmure Tully",
         "marker": {
          "color": "#EF553B",
          "symbol": "circle"
         },
         "mode": "markers",
         "name": "Edmure Tully",
         "orientation": "v",
         "showlegend": true,
         "type": "scatter",
         "x": [
          -0.44884157180786133
         ],
         "xaxis": "x",
         "y": [
          -3.673487901687622
         ],
         "yaxis": "y"
        },
        {
         "hovertemplate": "character=Spice King<br>x=%{x}<br>y=%{y}<extra></extra>",
         "legendgroup": "Spice King",
         "marker": {
          "color": "#00cc96",
          "symbol": "circle"
         },
         "mode": "markers",
         "name": "Spice King",
         "orientation": "v",
         "showlegend": true,
         "type": "scatter",
         "x": [
          -0.924669623374939
         ],
         "xaxis": "x",
         "y": [
          -4.777228832244873
         ],
         "yaxis": "y"
        },
        {
         "hovertemplate": "character=Benjen Stark<br>x=%{x}<br>y=%{y}<extra></extra>",
         "legendgroup": "Benjen Stark",
         "marker": {
          "color": "#ab63fa",
          "symbol": "circle"
         },
         "mode": "markers",
         "name": "Benjen Stark",
         "orientation": "v",
         "showlegend": true,
         "type": "scatter",
         "x": [
          -1.3673465251922607
         ],
         "xaxis": "x",
         "y": [
          -3.700535297393799
         ],
         "yaxis": "y"
        },
        {
         "hovertemplate": "character=Craster<br>x=%{x}<br>y=%{y}<extra></extra>",
         "legendgroup": "Craster",
         "marker": {
          "color": "#FFA15A",
          "symbol": "circle"
         },
         "mode": "markers",
         "name": "Craster",
         "orientation": "v",
         "showlegend": true,
         "type": "scatter",
         "x": [
          -1.361465573310852
         ],
         "xaxis": "x",
         "y": [
          -3.7025628089904785
         ],
         "yaxis": "y"
        },
        {
         "hovertemplate": "character=Lady Crane<br>x=%{x}<br>y=%{y}<extra></extra>",
         "legendgroup": "Lady Crane",
         "marker": {
          "color": "#19d3f3",
          "symbol": "circle"
         },
         "mode": "markers",
         "name": "Lady Crane",
         "orientation": "v",
         "showlegend": true,
         "type": "scatter",
         "x": [
          -0.8306971192359924
         ],
         "xaxis": "x",
         "y": [
          -4.042219638824463
         ],
         "yaxis": "y"
        },
        {
         "hovertemplate": "character=Jojen Reed<br>x=%{x}<br>y=%{y}<extra></extra>",
         "legendgroup": "Jojen Reed",
         "marker": {
          "color": "#FF6692",
          "symbol": "circle"
         },
         "mode": "markers",
         "name": "Jojen Reed",
         "orientation": "v",
         "showlegend": true,
         "type": "scatter",
         "x": [
          -1.6137855052947998
         ],
         "xaxis": "x",
         "y": [
          -4.1832098960876465
         ],
         "yaxis": "y"
        },
        {
         "hovertemplate": "character=Randyll Tarly<br>x=%{x}<br>y=%{y}<extra></extra>",
         "legendgroup": "Randyll Tarly",
         "marker": {
          "color": "#B6E880",
          "symbol": "circle"
         },
         "mode": "markers",
         "name": "Randyll Tarly",
         "orientation": "v",
         "showlegend": true,
         "type": "scatter",
         "x": [
          -0.7822527289390564
         ],
         "xaxis": "x",
         "y": [
          -4.421346187591553
         ],
         "yaxis": "y"
        },
        {
         "hovertemplate": "character=Karl Tanner<br>x=%{x}<br>y=%{y}<extra></extra>",
         "legendgroup": "Karl Tanner",
         "marker": {
          "color": "#FF97FF",
          "symbol": "circle"
         },
         "mode": "markers",
         "name": "Karl Tanner",
         "orientation": "v",
         "showlegend": true,
         "type": "scatter",
         "x": [
          -1.7754470109939575
         ],
         "xaxis": "x",
         "y": [
          -3.700305223464966
         ],
         "yaxis": "y"
        },
        {
         "hovertemplate": "character=Selyse Baratheon<br>x=%{x}<br>y=%{y}<extra></extra>",
         "legendgroup": "Selyse Baratheon",
         "marker": {
          "color": "#FECB52",
          "symbol": "circle"
         },
         "mode": "markers",
         "name": "Selyse Baratheon",
         "orientation": "v",
         "showlegend": true,
         "type": "scatter",
         "x": [
          -0.7923440933227539
         ],
         "xaxis": "x",
         "y": [
          -3.356693983078003
         ],
         "yaxis": "y"
        },
        {
         "hovertemplate": "character=Lyanna Mormont<br>x=%{x}<br>y=%{y}<extra></extra>",
         "legendgroup": "Lyanna Mormont",
         "marker": {
          "color": "#636efa",
          "symbol": "circle"
         },
         "mode": "markers",
         "name": "Lyanna Mormont",
         "orientation": "v",
         "showlegend": true,
         "type": "scatter",
         "x": [
          -2.3554084300994873
         ],
         "xaxis": "x",
         "y": [
          -5.426666259765625
         ],
         "yaxis": "y"
        },
        {
         "hovertemplate": "character=Doran Martell<br>x=%{x}<br>y=%{y}<extra></extra>",
         "legendgroup": "Doran Martell",
         "marker": {
          "color": "#EF553B",
          "symbol": "circle"
         },
         "mode": "markers",
         "name": "Doran Martell",
         "orientation": "v",
         "showlegend": true,
         "type": "scatter",
         "x": [
          -0.7899123430252075
         ],
         "xaxis": "x",
         "y": [
          -4.188714981079102
         ],
         "yaxis": "y"
        },
        {
         "hovertemplate": "character=Doreah<br>x=%{x}<br>y=%{y}<extra></extra>",
         "legendgroup": "Doreah",
         "marker": {
          "color": "#00cc96",
          "symbol": "circle"
         },
         "mode": "markers",
         "name": "Doreah",
         "orientation": "v",
         "showlegend": true,
         "type": "scatter",
         "x": [
          -1.2940412759780884
         ],
         "xaxis": "x",
         "y": [
          -5.757957935333252
         ],
         "yaxis": "y"
        },
        {
         "hovertemplate": "character=Yohn Royce<br>x=%{x}<br>y=%{y}<extra></extra>",
         "legendgroup": "Yohn Royce",
         "marker": {
          "color": "#ab63fa",
          "symbol": "circle"
         },
         "mode": "markers",
         "name": "Yohn Royce",
         "orientation": "v",
         "showlegend": true,
         "type": "scatter",
         "x": [
          -1.0666064023971558
         ],
         "xaxis": "x",
         "y": [
          -4.230533599853516
         ],
         "yaxis": "y"
        },
        {
         "hovertemplate": "character=Myranda<br>x=%{x}<br>y=%{y}<extra></extra>",
         "legendgroup": "Myranda",
         "marker": {
          "color": "#FFA15A",
          "symbol": "circle"
         },
         "mode": "markers",
         "name": "Myranda",
         "orientation": "v",
         "showlegend": true,
         "type": "scatter",
         "x": [
          -0.3779645562171936
         ],
         "xaxis": "x",
         "y": [
          -4.269921779632568
         ],
         "yaxis": "y"
        },
        {
         "hovertemplate": "character=Rickard Karstark<br>x=%{x}<br>y=%{y}<extra></extra>",
         "legendgroup": "Rickard Karstark",
         "marker": {
          "color": "#19d3f3",
          "symbol": "circle"
         },
         "mode": "markers",
         "name": "Rickard Karstark",
         "orientation": "v",
         "showlegend": true,
         "type": "scatter",
         "x": [
          -2.0990705490112305
         ],
         "xaxis": "x",
         "y": [
          -5.371230125427246
         ],
         "yaxis": "y"
        },
        {
         "hovertemplate": "character=Syrio Forel<br>x=%{x}<br>y=%{y}<extra></extra>",
         "legendgroup": "Syrio Forel",
         "marker": {
          "color": "#FF6692",
          "symbol": "circle"
         },
         "mode": "markers",
         "name": "Syrio Forel",
         "orientation": "v",
         "showlegend": true,
         "type": "scatter",
         "x": [
          -1.1867960691452026
         ],
         "xaxis": "x",
         "y": [
          -4.705466270446777
         ],
         "yaxis": "y"
        },
        {
         "hovertemplate": "character=Kevan Lannister<br>x=%{x}<br>y=%{y}<extra></extra>",
         "legendgroup": "Kevan Lannister",
         "marker": {
          "color": "#B6E880",
          "symbol": "circle"
         },
         "mode": "markers",
         "name": "Kevan Lannister",
         "orientation": "v",
         "showlegend": true,
         "type": "scatter",
         "x": [
          -0.8837090730667114
         ],
         "xaxis": "x",
         "y": [
          -4.583773612976074
         ],
         "yaxis": "y"
        },
        {
         "hovertemplate": "character=Mace Tyrell<br>x=%{x}<br>y=%{y}<extra></extra>",
         "legendgroup": "Mace Tyrell",
         "marker": {
          "color": "#FF97FF",
          "symbol": "circle"
         },
         "mode": "markers",
         "name": "Mace Tyrell",
         "orientation": "v",
         "showlegend": true,
         "type": "scatter",
         "x": [
          -0.7668992280960083
         ],
         "xaxis": "x",
         "y": [
          -5.137548446655273
         ],
         "yaxis": "y"
        },
        {
         "hovertemplate": "character=Pypar<br>x=%{x}<br>y=%{y}<extra></extra>",
         "legendgroup": "Pypar",
         "marker": {
          "color": "#FECB52",
          "symbol": "circle"
         },
         "mode": "markers",
         "name": "Pypar",
         "orientation": "v",
         "showlegend": true,
         "type": "scatter",
         "x": [
          -1.5999655723571777
         ],
         "xaxis": "x",
         "y": [
          -4.29357385635376
         ],
         "yaxis": "y"
        }
       ],
       "layout": {
        "legend": {
         "title": {
          "text": "character"
         },
         "tracegroupgap": 0
        },
        "margin": {
         "t": 60
        },
        "template": {
         "data": {
          "bar": [
           {
            "error_x": {
             "color": "#2a3f5f"
            },
            "error_y": {
             "color": "#2a3f5f"
            },
            "marker": {
             "line": {
              "color": "#E5ECF6",
              "width": 0.5
             },
             "pattern": {
              "fillmode": "overlay",
              "size": 10,
              "solidity": 0.2
             }
            },
            "type": "bar"
           }
          ],
          "barpolar": [
           {
            "marker": {
             "line": {
              "color": "#E5ECF6",
              "width": 0.5
             },
             "pattern": {
              "fillmode": "overlay",
              "size": 10,
              "solidity": 0.2
             }
            },
            "type": "barpolar"
           }
          ],
          "carpet": [
           {
            "aaxis": {
             "endlinecolor": "#2a3f5f",
             "gridcolor": "white",
             "linecolor": "white",
             "minorgridcolor": "white",
             "startlinecolor": "#2a3f5f"
            },
            "baxis": {
             "endlinecolor": "#2a3f5f",
             "gridcolor": "white",
             "linecolor": "white",
             "minorgridcolor": "white",
             "startlinecolor": "#2a3f5f"
            },
            "type": "carpet"
           }
          ],
          "choropleth": [
           {
            "colorbar": {
             "outlinewidth": 0,
             "ticks": ""
            },
            "type": "choropleth"
           }
          ],
          "contour": [
           {
            "colorbar": {
             "outlinewidth": 0,
             "ticks": ""
            },
            "colorscale": [
             [
              0,
              "#0d0887"
             ],
             [
              0.1111111111111111,
              "#46039f"
             ],
             [
              0.2222222222222222,
              "#7201a8"
             ],
             [
              0.3333333333333333,
              "#9c179e"
             ],
             [
              0.4444444444444444,
              "#bd3786"
             ],
             [
              0.5555555555555556,
              "#d8576b"
             ],
             [
              0.6666666666666666,
              "#ed7953"
             ],
             [
              0.7777777777777778,
              "#fb9f3a"
             ],
             [
              0.8888888888888888,
              "#fdca26"
             ],
             [
              1,
              "#f0f921"
             ]
            ],
            "type": "contour"
           }
          ],
          "contourcarpet": [
           {
            "colorbar": {
             "outlinewidth": 0,
             "ticks": ""
            },
            "type": "contourcarpet"
           }
          ],
          "heatmap": [
           {
            "colorbar": {
             "outlinewidth": 0,
             "ticks": ""
            },
            "colorscale": [
             [
              0,
              "#0d0887"
             ],
             [
              0.1111111111111111,
              "#46039f"
             ],
             [
              0.2222222222222222,
              "#7201a8"
             ],
             [
              0.3333333333333333,
              "#9c179e"
             ],
             [
              0.4444444444444444,
              "#bd3786"
             ],
             [
              0.5555555555555556,
              "#d8576b"
             ],
             [
              0.6666666666666666,
              "#ed7953"
             ],
             [
              0.7777777777777778,
              "#fb9f3a"
             ],
             [
              0.8888888888888888,
              "#fdca26"
             ],
             [
              1,
              "#f0f921"
             ]
            ],
            "type": "heatmap"
           }
          ],
          "heatmapgl": [
           {
            "colorbar": {
             "outlinewidth": 0,
             "ticks": ""
            },
            "colorscale": [
             [
              0,
              "#0d0887"
             ],
             [
              0.1111111111111111,
              "#46039f"
             ],
             [
              0.2222222222222222,
              "#7201a8"
             ],
             [
              0.3333333333333333,
              "#9c179e"
             ],
             [
              0.4444444444444444,
              "#bd3786"
             ],
             [
              0.5555555555555556,
              "#d8576b"
             ],
             [
              0.6666666666666666,
              "#ed7953"
             ],
             [
              0.7777777777777778,
              "#fb9f3a"
             ],
             [
              0.8888888888888888,
              "#fdca26"
             ],
             [
              1,
              "#f0f921"
             ]
            ],
            "type": "heatmapgl"
           }
          ],
          "histogram": [
           {
            "marker": {
             "pattern": {
              "fillmode": "overlay",
              "size": 10,
              "solidity": 0.2
             }
            },
            "type": "histogram"
           }
          ],
          "histogram2d": [
           {
            "colorbar": {
             "outlinewidth": 0,
             "ticks": ""
            },
            "colorscale": [
             [
              0,
              "#0d0887"
             ],
             [
              0.1111111111111111,
              "#46039f"
             ],
             [
              0.2222222222222222,
              "#7201a8"
             ],
             [
              0.3333333333333333,
              "#9c179e"
             ],
             [
              0.4444444444444444,
              "#bd3786"
             ],
             [
              0.5555555555555556,
              "#d8576b"
             ],
             [
              0.6666666666666666,
              "#ed7953"
             ],
             [
              0.7777777777777778,
              "#fb9f3a"
             ],
             [
              0.8888888888888888,
              "#fdca26"
             ],
             [
              1,
              "#f0f921"
             ]
            ],
            "type": "histogram2d"
           }
          ],
          "histogram2dcontour": [
           {
            "colorbar": {
             "outlinewidth": 0,
             "ticks": ""
            },
            "colorscale": [
             [
              0,
              "#0d0887"
             ],
             [
              0.1111111111111111,
              "#46039f"
             ],
             [
              0.2222222222222222,
              "#7201a8"
             ],
             [
              0.3333333333333333,
              "#9c179e"
             ],
             [
              0.4444444444444444,
              "#bd3786"
             ],
             [
              0.5555555555555556,
              "#d8576b"
             ],
             [
              0.6666666666666666,
              "#ed7953"
             ],
             [
              0.7777777777777778,
              "#fb9f3a"
             ],
             [
              0.8888888888888888,
              "#fdca26"
             ],
             [
              1,
              "#f0f921"
             ]
            ],
            "type": "histogram2dcontour"
           }
          ],
          "mesh3d": [
           {
            "colorbar": {
             "outlinewidth": 0,
             "ticks": ""
            },
            "type": "mesh3d"
           }
          ],
          "parcoords": [
           {
            "line": {
             "colorbar": {
              "outlinewidth": 0,
              "ticks": ""
             }
            },
            "type": "parcoords"
           }
          ],
          "pie": [
           {
            "automargin": true,
            "type": "pie"
           }
          ],
          "scatter": [
           {
            "marker": {
             "colorbar": {
              "outlinewidth": 0,
              "ticks": ""
             }
            },
            "type": "scatter"
           }
          ],
          "scatter3d": [
           {
            "line": {
             "colorbar": {
              "outlinewidth": 0,
              "ticks": ""
             }
            },
            "marker": {
             "colorbar": {
              "outlinewidth": 0,
              "ticks": ""
             }
            },
            "type": "scatter3d"
           }
          ],
          "scattercarpet": [
           {
            "marker": {
             "colorbar": {
              "outlinewidth": 0,
              "ticks": ""
             }
            },
            "type": "scattercarpet"
           }
          ],
          "scattergeo": [
           {
            "marker": {
             "colorbar": {
              "outlinewidth": 0,
              "ticks": ""
             }
            },
            "type": "scattergeo"
           }
          ],
          "scattergl": [
           {
            "marker": {
             "colorbar": {
              "outlinewidth": 0,
              "ticks": ""
             }
            },
            "type": "scattergl"
           }
          ],
          "scattermapbox": [
           {
            "marker": {
             "colorbar": {
              "outlinewidth": 0,
              "ticks": ""
             }
            },
            "type": "scattermapbox"
           }
          ],
          "scatterpolar": [
           {
            "marker": {
             "colorbar": {
              "outlinewidth": 0,
              "ticks": ""
             }
            },
            "type": "scatterpolar"
           }
          ],
          "scatterpolargl": [
           {
            "marker": {
             "colorbar": {
              "outlinewidth": 0,
              "ticks": ""
             }
            },
            "type": "scatterpolargl"
           }
          ],
          "scatterternary": [
           {
            "marker": {
             "colorbar": {
              "outlinewidth": 0,
              "ticks": ""
             }
            },
            "type": "scatterternary"
           }
          ],
          "surface": [
           {
            "colorbar": {
             "outlinewidth": 0,
             "ticks": ""
            },
            "colorscale": [
             [
              0,
              "#0d0887"
             ],
             [
              0.1111111111111111,
              "#46039f"
             ],
             [
              0.2222222222222222,
              "#7201a8"
             ],
             [
              0.3333333333333333,
              "#9c179e"
             ],
             [
              0.4444444444444444,
              "#bd3786"
             ],
             [
              0.5555555555555556,
              "#d8576b"
             ],
             [
              0.6666666666666666,
              "#ed7953"
             ],
             [
              0.7777777777777778,
              "#fb9f3a"
             ],
             [
              0.8888888888888888,
              "#fdca26"
             ],
             [
              1,
              "#f0f921"
             ]
            ],
            "type": "surface"
           }
          ],
          "table": [
           {
            "cells": {
             "fill": {
              "color": "#EBF0F8"
             },
             "line": {
              "color": "white"
             }
            },
            "header": {
             "fill": {
              "color": "#C8D4E3"
             },
             "line": {
              "color": "white"
             }
            },
            "type": "table"
           }
          ]
         },
         "layout": {
          "annotationdefaults": {
           "arrowcolor": "#2a3f5f",
           "arrowhead": 0,
           "arrowwidth": 1
          },
          "autotypenumbers": "strict",
          "coloraxis": {
           "colorbar": {
            "outlinewidth": 0,
            "ticks": ""
           }
          },
          "colorscale": {
           "diverging": [
            [
             0,
             "#8e0152"
            ],
            [
             0.1,
             "#c51b7d"
            ],
            [
             0.2,
             "#de77ae"
            ],
            [
             0.3,
             "#f1b6da"
            ],
            [
             0.4,
             "#fde0ef"
            ],
            [
             0.5,
             "#f7f7f7"
            ],
            [
             0.6,
             "#e6f5d0"
            ],
            [
             0.7,
             "#b8e186"
            ],
            [
             0.8,
             "#7fbc41"
            ],
            [
             0.9,
             "#4d9221"
            ],
            [
             1,
             "#276419"
            ]
           ],
           "sequential": [
            [
             0,
             "#0d0887"
            ],
            [
             0.1111111111111111,
             "#46039f"
            ],
            [
             0.2222222222222222,
             "#7201a8"
            ],
            [
             0.3333333333333333,
             "#9c179e"
            ],
            [
             0.4444444444444444,
             "#bd3786"
            ],
            [
             0.5555555555555556,
             "#d8576b"
            ],
            [
             0.6666666666666666,
             "#ed7953"
            ],
            [
             0.7777777777777778,
             "#fb9f3a"
            ],
            [
             0.8888888888888888,
             "#fdca26"
            ],
            [
             1,
             "#f0f921"
            ]
           ],
           "sequentialminus": [
            [
             0,
             "#0d0887"
            ],
            [
             0.1111111111111111,
             "#46039f"
            ],
            [
             0.2222222222222222,
             "#7201a8"
            ],
            [
             0.3333333333333333,
             "#9c179e"
            ],
            [
             0.4444444444444444,
             "#bd3786"
            ],
            [
             0.5555555555555556,
             "#d8576b"
            ],
            [
             0.6666666666666666,
             "#ed7953"
            ],
            [
             0.7777777777777778,
             "#fb9f3a"
            ],
            [
             0.8888888888888888,
             "#fdca26"
            ],
            [
             1,
             "#f0f921"
            ]
           ]
          },
          "colorway": [
           "#636efa",
           "#EF553B",
           "#00cc96",
           "#ab63fa",
           "#FFA15A",
           "#19d3f3",
           "#FF6692",
           "#B6E880",
           "#FF97FF",
           "#FECB52"
          ],
          "font": {
           "color": "#2a3f5f"
          },
          "geo": {
           "bgcolor": "white",
           "lakecolor": "white",
           "landcolor": "#E5ECF6",
           "showlakes": true,
           "showland": true,
           "subunitcolor": "white"
          },
          "hoverlabel": {
           "align": "left"
          },
          "hovermode": "closest",
          "mapbox": {
           "style": "light"
          },
          "paper_bgcolor": "white",
          "plot_bgcolor": "#E5ECF6",
          "polar": {
           "angularaxis": {
            "gridcolor": "white",
            "linecolor": "white",
            "ticks": ""
           },
           "bgcolor": "#E5ECF6",
           "radialaxis": {
            "gridcolor": "white",
            "linecolor": "white",
            "ticks": ""
           }
          },
          "scene": {
           "xaxis": {
            "backgroundcolor": "#E5ECF6",
            "gridcolor": "white",
            "gridwidth": 2,
            "linecolor": "white",
            "showbackground": true,
            "ticks": "",
            "zerolinecolor": "white"
           },
           "yaxis": {
            "backgroundcolor": "#E5ECF6",
            "gridcolor": "white",
            "gridwidth": 2,
            "linecolor": "white",
            "showbackground": true,
            "ticks": "",
            "zerolinecolor": "white"
           },
           "zaxis": {
            "backgroundcolor": "#E5ECF6",
            "gridcolor": "white",
            "gridwidth": 2,
            "linecolor": "white",
            "showbackground": true,
            "ticks": "",
            "zerolinecolor": "white"
           }
          },
          "shapedefaults": {
           "line": {
            "color": "#2a3f5f"
           }
          },
          "ternary": {
           "aaxis": {
            "gridcolor": "white",
            "linecolor": "white",
            "ticks": ""
           },
           "baxis": {
            "gridcolor": "white",
            "linecolor": "white",
            "ticks": ""
           },
           "bgcolor": "#E5ECF6",
           "caxis": {
            "gridcolor": "white",
            "linecolor": "white",
            "ticks": ""
           }
          },
          "title": {
           "x": 0.05
          },
          "xaxis": {
           "automargin": true,
           "gridcolor": "white",
           "linecolor": "white",
           "ticks": "",
           "title": {
            "standoff": 15
           },
           "zerolinecolor": "white",
           "zerolinewidth": 2
          },
          "yaxis": {
           "automargin": true,
           "gridcolor": "white",
           "linecolor": "white",
           "ticks": "",
           "title": {
            "standoff": 15
           },
           "zerolinecolor": "white",
           "zerolinewidth": 2
          }
         }
        },
        "xaxis": {
         "anchor": "y",
         "domain": [
          0,
          1
         ],
         "title": {
          "text": "x"
         }
        },
        "yaxis": {
         "anchor": "x",
         "domain": [
          0,
          1
         ],
         "title": {
          "text": "y"
         }
        }
       }
      },
      "text/html": [
       "<div>                            <div id=\"ab18e8e5-44dd-4c28-a1a9-b6133490ad87\" class=\"plotly-graph-div\" style=\"height:525px; width:100%;\"></div>            <script type=\"text/javascript\">                require([\"plotly\"], function(Plotly) {                    window.PLOTLYENV=window.PLOTLYENV || {};                                    if (document.getElementById(\"ab18e8e5-44dd-4c28-a1a9-b6133490ad87\")) {                    Plotly.newPlot(                        \"ab18e8e5-44dd-4c28-a1a9-b6133490ad87\",                        [{\"hovertemplate\":\"character=Tyrion Lannister<br>x=%{x}<br>y=%{y}<extra></extra>\",\"legendgroup\":\"Tyrion Lannister\",\"marker\":{\"color\":\"#636efa\",\"symbol\":\"circle\"},\"mode\":\"markers\",\"name\":\"Tyrion Lannister\",\"orientation\":\"v\",\"showlegend\":true,\"type\":\"scatter\",\"x\":[-1.0288532972335815],\"xaxis\":\"x\",\"y\":[3.119354248046875],\"yaxis\":\"y\"},{\"hovertemplate\":\"character=Cersei Lannister<br>x=%{x}<br>y=%{y}<extra></extra>\",\"legendgroup\":\"Cersei Lannister\",\"marker\":{\"color\":\"#EF553B\",\"symbol\":\"circle\"},\"mode\":\"markers\",\"name\":\"Cersei Lannister\",\"orientation\":\"v\",\"showlegend\":true,\"type\":\"scatter\",\"x\":[-0.9498957395553589],\"xaxis\":\"x\",\"y\":[2.845529079437256],\"yaxis\":\"y\"},{\"hovertemplate\":\"character=Jon Snow<br>x=%{x}<br>y=%{y}<extra></extra>\",\"legendgroup\":\"Jon Snow\",\"marker\":{\"color\":\"#00cc96\",\"symbol\":\"circle\"},\"mode\":\"markers\",\"name\":\"Jon Snow\",\"orientation\":\"v\",\"showlegend\":true,\"type\":\"scatter\",\"x\":[-1.2480913400650024],\"xaxis\":\"x\",\"y\":[2.599832773208618],\"yaxis\":\"y\"},{\"hovertemplate\":\"character=Daenerys Targaryen<br>x=%{x}<br>y=%{y}<extra></extra>\",\"legendgroup\":\"Daenerys Targaryen\",\"marker\":{\"color\":\"#ab63fa\",\"symbol\":\"circle\"},\"mode\":\"markers\",\"name\":\"Daenerys Targaryen\",\"orientation\":\"v\",\"showlegend\":true,\"type\":\"scatter\",\"x\":[-0.3111289143562317],\"xaxis\":\"x\",\"y\":[2.4197897911071777],\"yaxis\":\"y\"},{\"hovertemplate\":\"character=Jaime Lannister<br>x=%{x}<br>y=%{y}<extra></extra>\",\"legendgroup\":\"Jaime Lannister\",\"marker\":{\"color\":\"#FFA15A\",\"symbol\":\"circle\"},\"mode\":\"markers\",\"name\":\"Jaime Lannister\",\"orientation\":\"v\",\"showlegend\":true,\"type\":\"scatter\",\"x\":[-1.020554542541504],\"xaxis\":\"x\",\"y\":[2.596266031265259],\"yaxis\":\"y\"},{\"hovertemplate\":\"character=Sansa Stark<br>x=%{x}<br>y=%{y}<extra></extra>\",\"legendgroup\":\"Sansa Stark\",\"marker\":{\"color\":\"#19d3f3\",\"symbol\":\"circle\"},\"mode\":\"markers\",\"name\":\"Sansa Stark\",\"orientation\":\"v\",\"showlegend\":true,\"type\":\"scatter\",\"x\":[-0.954975962638855],\"xaxis\":\"x\",\"y\":[2.2087857723236084],\"yaxis\":\"y\"},{\"hovertemplate\":\"character=Petyr Baelish<br>x=%{x}<br>y=%{y}<extra></extra>\",\"legendgroup\":\"Petyr Baelish\",\"marker\":{\"color\":\"#FF6692\",\"symbol\":\"circle\"},\"mode\":\"markers\",\"name\":\"Petyr Baelish\",\"orientation\":\"v\",\"showlegend\":true,\"type\":\"scatter\",\"x\":[-0.29810869693756104],\"xaxis\":\"x\",\"y\":[1.9382896423339844],\"yaxis\":\"y\"},{\"hovertemplate\":\"character=Lord Varys<br>x=%{x}<br>y=%{y}<extra></extra>\",\"legendgroup\":\"Lord Varys\",\"marker\":{\"color\":\"#B6E880\",\"symbol\":\"circle\"},\"mode\":\"markers\",\"name\":\"Lord Varys\",\"orientation\":\"v\",\"showlegend\":true,\"type\":\"scatter\",\"x\":[-0.19470977783203125],\"xaxis\":\"x\",\"y\":[1.809251308441162],\"yaxis\":\"y\"},{\"hovertemplate\":\"character=Davos Seaworth<br>x=%{x}<br>y=%{y}<extra></extra>\",\"legendgroup\":\"Davos Seaworth\",\"marker\":{\"color\":\"#FF97FF\",\"symbol\":\"circle\"},\"mode\":\"markers\",\"name\":\"Davos Seaworth\",\"orientation\":\"v\",\"showlegend\":true,\"type\":\"scatter\",\"x\":[-0.32890188694000244],\"xaxis\":\"x\",\"y\":[1.4865697622299194],\"yaxis\":\"y\"},{\"hovertemplate\":\"character=Samwell Tarly<br>x=%{x}<br>y=%{y}<extra></extra>\",\"legendgroup\":\"Samwell Tarly\",\"marker\":{\"color\":\"#FECB52\",\"symbol\":\"circle\"},\"mode\":\"markers\",\"name\":\"Samwell Tarly\",\"orientation\":\"v\",\"showlegend\":true,\"type\":\"scatter\",\"x\":[-1.6019827127456665],\"xaxis\":\"x\",\"y\":[1.064833402633667],\"yaxis\":\"y\"},{\"hovertemplate\":\"character=Arya Stark<br>x=%{x}<br>y=%{y}<extra></extra>\",\"legendgroup\":\"Arya Stark\",\"marker\":{\"color\":\"#636efa\",\"symbol\":\"circle\"},\"mode\":\"markers\",\"name\":\"Arya Stark\",\"orientation\":\"v\",\"showlegend\":true,\"type\":\"scatter\",\"x\":[-1.6849807500839233],\"xaxis\":\"x\",\"y\":[1.6672760248184204],\"yaxis\":\"y\"},{\"hovertemplate\":\"character=Tywin Lannister<br>x=%{x}<br>y=%{y}<extra></extra>\",\"legendgroup\":\"Tywin Lannister\",\"marker\":{\"color\":\"#EF553B\",\"symbol\":\"circle\"},\"mode\":\"markers\",\"name\":\"Tywin Lannister\",\"orientation\":\"v\",\"showlegend\":true,\"type\":\"scatter\",\"x\":[0.3952402174472809],\"xaxis\":\"x\",\"y\":[0.8293799161911011],\"yaxis\":\"y\"},{\"hovertemplate\":\"character=Theon Greyjoy<br>x=%{x}<br>y=%{y}<extra></extra>\",\"legendgroup\":\"Theon Greyjoy\",\"marker\":{\"color\":\"#00cc96\",\"symbol\":\"circle\"},\"mode\":\"markers\",\"name\":\"Theon Greyjoy\",\"orientation\":\"v\",\"showlegend\":true,\"type\":\"scatter\",\"x\":[-1.088432788848877],\"xaxis\":\"x\",\"y\":[1.1079908609390259],\"yaxis\":\"y\"},{\"hovertemplate\":\"character=Jorah Mormont<br>x=%{x}<br>y=%{y}<extra></extra>\",\"legendgroup\":\"Jorah Mormont\",\"marker\":{\"color\":\"#ab63fa\",\"symbol\":\"circle\"},\"mode\":\"markers\",\"name\":\"Jorah Mormont\",\"orientation\":\"v\",\"showlegend\":true,\"type\":\"scatter\",\"x\":[1.0436046123504639],\"xaxis\":\"x\",\"y\":[0.8826242089271545],\"yaxis\":\"y\"},{\"hovertemplate\":\"character=Bronn<br>x=%{x}<br>y=%{y}<extra></extra>\",\"legendgroup\":\"Bronn\",\"marker\":{\"color\":\"#FFA15A\",\"symbol\":\"circle\"},\"mode\":\"markers\",\"name\":\"Bronn\",\"orientation\":\"v\",\"showlegend\":true,\"type\":\"scatter\",\"x\":[-2.43658185005188],\"xaxis\":\"x\",\"y\":[0.820589542388916],\"yaxis\":\"y\"},{\"hovertemplate\":\"character=Olenna Tyrell<br>x=%{x}<br>y=%{y}<extra></extra>\",\"legendgroup\":\"Olenna Tyrell\",\"marker\":{\"color\":\"#19d3f3\",\"symbol\":\"circle\"},\"mode\":\"markers\",\"name\":\"Olenna Tyrell\",\"orientation\":\"v\",\"showlegend\":true,\"type\":\"scatter\",\"x\":[0.5433465242385864],\"xaxis\":\"x\",\"y\":[-0.8846608400344849],\"yaxis\":\"y\"},{\"hovertemplate\":\"character=Brienne of Tarth<br>x=%{x}<br>y=%{y}<extra></extra>\",\"legendgroup\":\"Brienne of Tarth\",\"marker\":{\"color\":\"#FF6692\",\"symbol\":\"circle\"},\"mode\":\"markers\",\"name\":\"Brienne of Tarth\",\"orientation\":\"v\",\"showlegend\":true,\"type\":\"scatter\",\"x\":[0.8965339064598083],\"xaxis\":\"x\",\"y\":[-0.02359507605433464],\"yaxis\":\"y\"},{\"hovertemplate\":\"character=Sandor Clegane<br>x=%{x}<br>y=%{y}<extra></extra>\",\"legendgroup\":\"Sandor Clegane\",\"marker\":{\"color\":\"#B6E880\",\"symbol\":\"circle\"},\"mode\":\"markers\",\"name\":\"Sandor Clegane\",\"orientation\":\"v\",\"showlegend\":true,\"type\":\"scatter\",\"x\":[-2.5134754180908203],\"xaxis\":\"x\",\"y\":[0.7720316648483276],\"yaxis\":\"y\"},{\"hovertemplate\":\"character=Robb Stark<br>x=%{x}<br>y=%{y}<extra></extra>\",\"legendgroup\":\"Robb Stark\",\"marker\":{\"color\":\"#FF97FF\",\"symbol\":\"circle\"},\"mode\":\"markers\",\"name\":\"Robb Stark\",\"orientation\":\"v\",\"showlegend\":true,\"type\":\"scatter\",\"x\":[-0.6767107248306274],\"xaxis\":\"x\",\"y\":[0.7674461603164673],\"yaxis\":\"y\"},{\"hovertemplate\":\"character=Stannis Baratheon<br>x=%{x}<br>y=%{y}<extra></extra>\",\"legendgroup\":\"Stannis Baratheon\",\"marker\":{\"color\":\"#FECB52\",\"symbol\":\"circle\"},\"mode\":\"markers\",\"name\":\"Stannis Baratheon\",\"orientation\":\"v\",\"showlegend\":true,\"type\":\"scatter\",\"x\":[-0.17815491557121277],\"xaxis\":\"x\",\"y\":[0.6191625595092773],\"yaxis\":\"y\"},{\"hovertemplate\":\"character=Margaery Tyrell<br>x=%{x}<br>y=%{y}<extra></extra>\",\"legendgroup\":\"Margaery Tyrell\",\"marker\":{\"color\":\"#636efa\",\"symbol\":\"circle\"},\"mode\":\"markers\",\"name\":\"Margaery Tyrell\",\"orientation\":\"v\",\"showlegend\":true,\"type\":\"scatter\",\"x\":[1.3175792694091797],\"xaxis\":\"x\",\"y\":[-1.1687582731246948],\"yaxis\":\"y\"},{\"hovertemplate\":\"character=Catelyn Stark<br>x=%{x}<br>y=%{y}<extra></extra>\",\"legendgroup\":\"Catelyn Stark\",\"marker\":{\"color\":\"#EF553B\",\"symbol\":\"circle\"},\"mode\":\"markers\",\"name\":\"Catelyn Stark\",\"orientation\":\"v\",\"showlegend\":true,\"type\":\"scatter\",\"x\":[-0.5258589386940002],\"xaxis\":\"x\",\"y\":[0.31132128834724426],\"yaxis\":\"y\"},{\"hovertemplate\":\"character=Eddard Stark<br>x=%{x}<br>y=%{y}<extra></extra>\",\"legendgroup\":\"Eddard Stark\",\"marker\":{\"color\":\"#00cc96\",\"symbol\":\"circle\"},\"mode\":\"markers\",\"name\":\"Eddard Stark\",\"orientation\":\"v\",\"showlegend\":true,\"type\":\"scatter\",\"x\":[0.13816018402576447],\"xaxis\":\"x\",\"y\":[0.4433566629886627],\"yaxis\":\"y\"},{\"hovertemplate\":\"character=Ramsay Snow<br>x=%{x}<br>y=%{y}<extra></extra>\",\"legendgroup\":\"Ramsay Snow\",\"marker\":{\"color\":\"#ab63fa\",\"symbol\":\"circle\"},\"mode\":\"markers\",\"name\":\"Ramsay Snow\",\"orientation\":\"v\",\"showlegend\":true,\"type\":\"scatter\",\"x\":[-1.2943395376205444],\"xaxis\":\"x\",\"y\":[-0.25886908173561096],\"yaxis\":\"y\"},{\"hovertemplate\":\"character=Melisandre<br>x=%{x}<br>y=%{y}<extra></extra>\",\"legendgroup\":\"Melisandre\",\"marker\":{\"color\":\"#FFA15A\",\"symbol\":\"circle\"},\"mode\":\"markers\",\"name\":\"Melisandre\",\"orientation\":\"v\",\"showlegend\":true,\"type\":\"scatter\",\"x\":[-0.9255960583686829],\"xaxis\":\"x\",\"y\":[-1.2670997381210327],\"yaxis\":\"y\"},{\"hovertemplate\":\"character=Joffrey Baratheon<br>x=%{x}<br>y=%{y}<extra></extra>\",\"legendgroup\":\"Joffrey Baratheon\",\"marker\":{\"color\":\"#19d3f3\",\"symbol\":\"circle\"},\"mode\":\"markers\",\"name\":\"Joffrey Baratheon\",\"orientation\":\"v\",\"showlegend\":true,\"type\":\"scatter\",\"x\":[0.9728890061378479],\"xaxis\":\"x\",\"y\":[-0.23101840913295746],\"yaxis\":\"y\"},{\"hovertemplate\":\"character=Bran Stark<br>x=%{x}<br>y=%{y}<extra></extra>\",\"legendgroup\":\"Bran Stark\",\"marker\":{\"color\":\"#FF6692\",\"symbol\":\"circle\"},\"mode\":\"markers\",\"name\":\"Bran Stark\",\"orientation\":\"v\",\"showlegend\":true,\"type\":\"scatter\",\"x\":[-1.872532606124878],\"xaxis\":\"x\",\"y\":[-0.09786510467529297],\"yaxis\":\"y\"},{\"hovertemplate\":\"character=High Sparrow<br>x=%{x}<br>y=%{y}<extra></extra>\",\"legendgroup\":\"High Sparrow\",\"marker\":{\"color\":\"#B6E880\",\"symbol\":\"circle\"},\"mode\":\"markers\",\"name\":\"High Sparrow\",\"orientation\":\"v\",\"showlegend\":true,\"type\":\"scatter\",\"x\":[2.010148286819458],\"xaxis\":\"x\",\"y\":[-2.400653123855591],\"yaxis\":\"y\"},{\"hovertemplate\":\"character=Robert Baratheon<br>x=%{x}<br>y=%{y}<extra></extra>\",\"legendgroup\":\"Robert Baratheon\",\"marker\":{\"color\":\"#FF97FF\",\"symbol\":\"circle\"},\"mode\":\"markers\",\"name\":\"Robert Baratheon\",\"orientation\":\"v\",\"showlegend\":true,\"type\":\"scatter\",\"x\":[0.2938317656517029],\"xaxis\":\"x\",\"y\":[0.049468450248241425],\"yaxis\":\"y\"},{\"hovertemplate\":\"character=Daario Naharis<br>x=%{x}<br>y=%{y}<extra></extra>\",\"legendgroup\":\"Daario Naharis\",\"marker\":{\"color\":\"#FECB52\",\"symbol\":\"circle\"},\"mode\":\"markers\",\"name\":\"Daario Naharis\",\"orientation\":\"v\",\"showlegend\":true,\"type\":\"scatter\",\"x\":[1.7008471488952637],\"xaxis\":\"x\",\"y\":[-4.324535369873047],\"yaxis\":\"y\"},{\"hovertemplate\":\"character=Tormund Giantsbane<br>x=%{x}<br>y=%{y}<extra></extra>\",\"legendgroup\":\"Tormund Giantsbane\",\"marker\":{\"color\":\"#636efa\",\"symbol\":\"circle\"},\"mode\":\"markers\",\"name\":\"Tormund Giantsbane\",\"orientation\":\"v\",\"showlegend\":true,\"type\":\"scatter\",\"x\":[-2.6644632816314697],\"xaxis\":\"x\",\"y\":[-0.7439609169960022],\"yaxis\":\"y\"},{\"hovertemplate\":\"character=Ygritte<br>x=%{x}<br>y=%{y}<extra></extra>\",\"legendgroup\":\"Ygritte\",\"marker\":{\"color\":\"#EF553B\",\"symbol\":\"circle\"},\"mode\":\"markers\",\"name\":\"Ygritte\",\"orientation\":\"v\",\"showlegend\":true,\"type\":\"scatter\",\"x\":[-3.0032384395599365],\"xaxis\":\"x\",\"y\":[-1.1324862241744995],\"yaxis\":\"y\"},{\"hovertemplate\":\"character=Roose Bolton<br>x=%{x}<br>y=%{y}<extra></extra>\",\"legendgroup\":\"Roose Bolton\",\"marker\":{\"color\":\"#00cc96\",\"symbol\":\"circle\"},\"mode\":\"markers\",\"name\":\"Roose Bolton\",\"orientation\":\"v\",\"showlegend\":true,\"type\":\"scatter\",\"x\":[-2.9535040855407715],\"xaxis\":\"x\",\"y\":[-5.373350143432617],\"yaxis\":\"y\"},{\"hovertemplate\":\"character=Grand Maester Pycelle<br>x=%{x}<br>y=%{y}<extra></extra>\",\"legendgroup\":\"Grand Maester Pycelle\",\"marker\":{\"color\":\"#ab63fa\",\"symbol\":\"circle\"},\"mode\":\"markers\",\"name\":\"Grand Maester Pycelle\",\"orientation\":\"v\",\"showlegend\":true,\"type\":\"scatter\",\"x\":[0.5040073394775391],\"xaxis\":\"x\",\"y\":[-6.683494567871094],\"yaxis\":\"y\"},{\"hovertemplate\":\"character=Oberyn Martell<br>x=%{x}<br>y=%{y}<extra></extra>\",\"legendgroup\":\"Oberyn Martell\",\"marker\":{\"color\":\"#FFA15A\",\"symbol\":\"circle\"},\"mode\":\"markers\",\"name\":\"Oberyn Martell\",\"orientation\":\"v\",\"showlegend\":true,\"type\":\"scatter\",\"x\":[-3.9186031818389893],\"xaxis\":\"x\",\"y\":[-3.2616899013519287],\"yaxis\":\"y\"},{\"hovertemplate\":\"character=Alliser Thorne<br>x=%{x}<br>y=%{y}<extra></extra>\",\"legendgroup\":\"Alliser Thorne\",\"marker\":{\"color\":\"#19d3f3\",\"symbol\":\"circle\"},\"mode\":\"markers\",\"name\":\"Alliser Thorne\",\"orientation\":\"v\",\"showlegend\":true,\"type\":\"scatter\",\"x\":[-3.381385564804077],\"xaxis\":\"x\",\"y\":[-2.365516185760498],\"yaxis\":\"y\"},{\"hovertemplate\":\"character=Missandei<br>x=%{x}<br>y=%{y}<extra></extra>\",\"legendgroup\":\"Missandei\",\"marker\":{\"color\":\"#FF6692\",\"symbol\":\"circle\"},\"mode\":\"markers\",\"name\":\"Missandei\",\"orientation\":\"v\",\"showlegend\":true,\"type\":\"scatter\",\"x\":[0.9848098754882812],\"xaxis\":\"x\",\"y\":[-5.524768829345703],\"yaxis\":\"y\"},{\"hovertemplate\":\"character=Gendry<br>x=%{x}<br>y=%{y}<extra></extra>\",\"legendgroup\":\"Gendry\",\"marker\":{\"color\":\"#B6E880\",\"symbol\":\"circle\"},\"mode\":\"markers\",\"name\":\"Gendry\",\"orientation\":\"v\",\"showlegend\":true,\"type\":\"scatter\",\"x\":[-0.7338931560516357],\"xaxis\":\"x\",\"y\":[-0.6618624925613403],\"yaxis\":\"y\"},{\"hovertemplate\":\"character=Yara Greyjoy<br>x=%{x}<br>y=%{y}<extra></extra>\",\"legendgroup\":\"Yara Greyjoy\",\"marker\":{\"color\":\"#FF97FF\",\"symbol\":\"circle\"},\"mode\":\"markers\",\"name\":\"Yara Greyjoy\",\"orientation\":\"v\",\"showlegend\":true,\"type\":\"scatter\",\"x\":[-2.0062525272369385],\"xaxis\":\"x\",\"y\":[-1.374457836151123],\"yaxis\":\"y\"},{\"hovertemplate\":\"character=Osha<br>x=%{x}<br>y=%{y}<extra></extra>\",\"legendgroup\":\"Osha\",\"marker\":{\"color\":\"#FECB52\",\"symbol\":\"circle\"},\"mode\":\"markers\",\"name\":\"Osha\",\"orientation\":\"v\",\"showlegend\":true,\"type\":\"scatter\",\"x\":[-1.5541585683822632],\"xaxis\":\"x\",\"y\":[-1.0152010917663574],\"yaxis\":\"y\"},{\"hovertemplate\":\"character=Shae<br>x=%{x}<br>y=%{y}<extra></extra>\",\"legendgroup\":\"Shae\",\"marker\":{\"color\":\"#636efa\",\"symbol\":\"circle\"},\"mode\":\"markers\",\"name\":\"Shae\",\"orientation\":\"v\",\"showlegend\":true,\"type\":\"scatter\",\"x\":[0.7749845385551453],\"xaxis\":\"x\",\"y\":[-1.7577850818634033],\"yaxis\":\"y\"},{\"hovertemplate\":\"character=Walder Frey<br>x=%{x}<br>y=%{y}<extra></extra>\",\"legendgroup\":\"Walder Frey\",\"marker\":{\"color\":\"#EF553B\",\"symbol\":\"circle\"},\"mode\":\"markers\",\"name\":\"Walder Frey\",\"orientation\":\"v\",\"showlegend\":true,\"type\":\"scatter\",\"x\":[0.06034442037343979],\"xaxis\":\"x\",\"y\":[-3.397693634033203],\"yaxis\":\"y\"},{\"hovertemplate\":\"character=Jeor Mormont<br>x=%{x}<br>y=%{y}<extra></extra>\",\"legendgroup\":\"Jeor Mormont\",\"marker\":{\"color\":\"#00cc96\",\"symbol\":\"circle\"},\"mode\":\"markers\",\"name\":\"Jeor Mormont\",\"orientation\":\"v\",\"showlegend\":true,\"type\":\"scatter\",\"x\":[-3.006469249725342],\"xaxis\":\"x\",\"y\":[-3.2774131298065186],\"yaxis\":\"y\"},{\"hovertemplate\":\"character=Gilly<br>x=%{x}<br>y=%{y}<extra></extra>\",\"legendgroup\":\"Gilly\",\"marker\":{\"color\":\"#ab63fa\",\"symbol\":\"circle\"},\"mode\":\"markers\",\"name\":\"Gilly\",\"orientation\":\"v\",\"showlegend\":true,\"type\":\"scatter\",\"x\":[-2.582881212234497],\"xaxis\":\"x\",\"y\":[-2.6727511882781982],\"yaxis\":\"y\"},{\"hovertemplate\":\"character=Jaqen H'ghar<br>x=%{x}<br>y=%{y}<extra></extra>\",\"legendgroup\":\"Jaqen H'ghar\",\"marker\":{\"color\":\"#FFA15A\",\"symbol\":\"circle\"},\"mode\":\"markers\",\"name\":\"Jaqen H'ghar\",\"orientation\":\"v\",\"showlegend\":true,\"type\":\"scatter\",\"x\":[-2.4857325553894043],\"xaxis\":\"x\",\"y\":[-6.532540321350098],\"yaxis\":\"y\"},{\"hovertemplate\":\"character=Renly Baratheon<br>x=%{x}<br>y=%{y}<extra></extra>\",\"legendgroup\":\"Renly Baratheon\",\"marker\":{\"color\":\"#19d3f3\",\"symbol\":\"circle\"},\"mode\":\"markers\",\"name\":\"Renly Baratheon\",\"orientation\":\"v\",\"showlegend\":true,\"type\":\"scatter\",\"x\":[0.31143859028816223],\"xaxis\":\"x\",\"y\":[-1.6434508562088013],\"yaxis\":\"y\"},{\"hovertemplate\":\"character=Maester Aemon<br>x=%{x}<br>y=%{y}<extra></extra>\",\"legendgroup\":\"Maester Aemon\",\"marker\":{\"color\":\"#FF6692\",\"symbol\":\"circle\"},\"mode\":\"markers\",\"name\":\"Maester Aemon\",\"orientation\":\"v\",\"showlegend\":true,\"type\":\"scatter\",\"x\":[-3.164005994796753],\"xaxis\":\"x\",\"y\":[-4.072895526885986],\"yaxis\":\"y\"},{\"hovertemplate\":\"character=Tommen Baratheon<br>x=%{x}<br>y=%{y}<extra></extra>\",\"legendgroup\":\"Tommen Baratheon\",\"marker\":{\"color\":\"#B6E880\",\"symbol\":\"circle\"},\"mode\":\"markers\",\"name\":\"Tommen Baratheon\",\"orientation\":\"v\",\"showlegend\":true,\"type\":\"scatter\",\"x\":[1.455081582069397],\"xaxis\":\"x\",\"y\":[-1.912009596824646],\"yaxis\":\"y\"},{\"hovertemplate\":\"character=Qyburn<br>x=%{x}<br>y=%{y}<extra></extra>\",\"legendgroup\":\"Qyburn\",\"marker\":{\"color\":\"#FF97FF\",\"symbol\":\"circle\"},\"mode\":\"markers\",\"name\":\"Qyburn\",\"orientation\":\"v\",\"showlegend\":true,\"type\":\"scatter\",\"x\":[0.24930870532989502],\"xaxis\":\"x\",\"y\":[-5.8878493309021],\"yaxis\":\"y\"},{\"hovertemplate\":\"character=Euron Greyjoy<br>x=%{x}<br>y=%{y}<extra></extra>\",\"legendgroup\":\"Euron Greyjoy\",\"marker\":{\"color\":\"#FECB52\",\"symbol\":\"circle\"},\"mode\":\"markers\",\"name\":\"Euron Greyjoy\",\"orientation\":\"v\",\"showlegend\":true,\"type\":\"scatter\",\"x\":[-1.9608025550842285],\"xaxis\":\"x\",\"y\":[-2.1608643531799316],\"yaxis\":\"y\"},{\"hovertemplate\":\"character=Lysa Arryn<br>x=%{x}<br>y=%{y}<extra></extra>\",\"legendgroup\":\"Lysa Arryn\",\"marker\":{\"color\":\"#636efa\",\"symbol\":\"circle\"},\"mode\":\"markers\",\"name\":\"Lysa Arryn\",\"orientation\":\"v\",\"showlegend\":true,\"type\":\"scatter\",\"x\":[0.3940166234970093],\"xaxis\":\"x\",\"y\":[-2.6353375911712646],\"yaxis\":\"y\"},{\"hovertemplate\":\"character=Barristan Selmy<br>x=%{x}<br>y=%{y}<extra></extra>\",\"legendgroup\":\"Barristan Selmy\",\"marker\":{\"color\":\"#EF553B\",\"symbol\":\"circle\"},\"mode\":\"markers\",\"name\":\"Barristan Selmy\",\"orientation\":\"v\",\"showlegend\":true,\"type\":\"scatter\",\"x\":[0.32414937019348145],\"xaxis\":\"x\",\"y\":[-6.232964038848877],\"yaxis\":\"y\"},{\"hovertemplate\":\"character=Talisa Maegyr<br>x=%{x}<br>y=%{y}<extra></extra>\",\"legendgroup\":\"Talisa Maegyr\",\"marker\":{\"color\":\"#00cc96\",\"symbol\":\"circle\"},\"mode\":\"markers\",\"name\":\"Talisa Maegyr\",\"orientation\":\"v\",\"showlegend\":true,\"type\":\"scatter\",\"x\":[-0.20947977900505066],\"xaxis\":\"x\",\"y\":[-2.447878360748291],\"yaxis\":\"y\"},{\"hovertemplate\":\"character=Thoros Of Myr<br>x=%{x}<br>y=%{y}<extra></extra>\",\"legendgroup\":\"Thoros Of Myr\",\"marker\":{\"color\":\"#ab63fa\",\"symbol\":\"circle\"},\"mode\":\"markers\",\"name\":\"Thoros Of Myr\",\"orientation\":\"v\",\"showlegend\":true,\"type\":\"scatter\",\"x\":[-1.3605856895446777],\"xaxis\":\"x\",\"y\":[-2.692537307739258],\"yaxis\":\"y\"},{\"hovertemplate\":\"character=Mance Rayder<br>x=%{x}<br>y=%{y}<extra></extra>\",\"legendgroup\":\"Mance Rayder\",\"marker\":{\"color\":\"#FFA15A\",\"symbol\":\"circle\"},\"mode\":\"markers\",\"name\":\"Mance Rayder\",\"orientation\":\"v\",\"showlegend\":true,\"type\":\"scatter\",\"x\":[-2.5956902503967285],\"xaxis\":\"x\",\"y\":[-1.8215898275375366],\"yaxis\":\"y\"},{\"hovertemplate\":\"character=Podrick Payne<br>x=%{x}<br>y=%{y}<extra></extra>\",\"legendgroup\":\"Podrick Payne\",\"marker\":{\"color\":\"#19d3f3\",\"symbol\":\"circle\"},\"mode\":\"markers\",\"name\":\"Podrick Payne\",\"orientation\":\"v\",\"showlegend\":true,\"type\":\"scatter\",\"x\":[-0.6489278674125671],\"xaxis\":\"x\",\"y\":[-2.088168144226074],\"yaxis\":\"y\"},{\"hovertemplate\":\"character=Viserys Targaryen<br>x=%{x}<br>y=%{y}<extra></extra>\",\"legendgroup\":\"Viserys Targaryen\",\"marker\":{\"color\":\"#FF6692\",\"symbol\":\"circle\"},\"mode\":\"markers\",\"name\":\"Viserys Targaryen\",\"orientation\":\"v\",\"showlegend\":true,\"type\":\"scatter\",\"x\":[0.7856629490852356],\"xaxis\":\"x\",\"y\":[-4.262429237365723],\"yaxis\":\"y\"},{\"hovertemplate\":\"character=Beric Dondarrion<br>x=%{x}<br>y=%{y}<extra></extra>\",\"legendgroup\":\"Beric Dondarrion\",\"marker\":{\"color\":\"#B6E880\",\"symbol\":\"circle\"},\"mode\":\"markers\",\"name\":\"Beric Dondarrion\",\"orientation\":\"v\",\"showlegend\":true,\"type\":\"scatter\",\"x\":[-0.9436964988708496],\"xaxis\":\"x\",\"y\":[-1.5489641427993774],\"yaxis\":\"y\"},{\"hovertemplate\":\"character=Grey Worm<br>x=%{x}<br>y=%{y}<extra></extra>\",\"legendgroup\":\"Grey Worm\",\"marker\":{\"color\":\"#FF97FF\",\"symbol\":\"circle\"},\"mode\":\"markers\",\"name\":\"Grey Worm\",\"orientation\":\"v\",\"showlegend\":true,\"type\":\"scatter\",\"x\":[0.5426731705665588],\"xaxis\":\"x\",\"y\":[-5.195124626159668],\"yaxis\":\"y\"},{\"hovertemplate\":\"character=Maester Luwin<br>x=%{x}<br>y=%{y}<extra></extra>\",\"legendgroup\":\"Maester Luwin\",\"marker\":{\"color\":\"#FECB52\",\"symbol\":\"circle\"},\"mode\":\"markers\",\"name\":\"Maester Luwin\",\"orientation\":\"v\",\"showlegend\":true,\"type\":\"scatter\",\"x\":[-0.8800240755081177],\"xaxis\":\"x\",\"y\":[-2.03764271736145],\"yaxis\":\"y\"},{\"hovertemplate\":\"character=Loras Tyrell<br>x=%{x}<br>y=%{y}<extra></extra>\",\"legendgroup\":\"Loras Tyrell\",\"marker\":{\"color\":\"#636efa\",\"symbol\":\"circle\"},\"mode\":\"markers\",\"name\":\"Loras Tyrell\",\"orientation\":\"v\",\"showlegend\":true,\"type\":\"scatter\",\"x\":[0.7254362106323242],\"xaxis\":\"x\",\"y\":[-2.446951150894165],\"yaxis\":\"y\"},{\"hovertemplate\":\"character=Shireen Baratheon<br>x=%{x}<br>y=%{y}<extra></extra>\",\"legendgroup\":\"Shireen Baratheon\",\"marker\":{\"color\":\"#EF553B\",\"symbol\":\"circle\"},\"mode\":\"markers\",\"name\":\"Shireen Baratheon\",\"orientation\":\"v\",\"showlegend\":true,\"type\":\"scatter\",\"x\":[0.9957966804504395],\"xaxis\":\"x\",\"y\":[-3.3398146629333496],\"yaxis\":\"y\"},{\"hovertemplate\":\"character=Yoren<br>x=%{x}<br>y=%{y}<extra></extra>\",\"legendgroup\":\"Yoren\",\"marker\":{\"color\":\"#00cc96\",\"symbol\":\"circle\"},\"mode\":\"markers\",\"name\":\"Yoren\",\"orientation\":\"v\",\"showlegend\":true,\"type\":\"scatter\",\"x\":[-2.181814432144165],\"xaxis\":\"x\",\"y\":[-3.2015535831451416],\"yaxis\":\"y\"},{\"hovertemplate\":\"character=Hot Pie<br>x=%{x}<br>y=%{y}<extra></extra>\",\"legendgroup\":\"Hot Pie\",\"marker\":{\"color\":\"#ab63fa\",\"symbol\":\"circle\"},\"mode\":\"markers\",\"name\":\"Hot Pie\",\"orientation\":\"v\",\"showlegend\":true,\"type\":\"scatter\",\"x\":[-2.403411865234375],\"xaxis\":\"x\",\"y\":[-3.9966583251953125],\"yaxis\":\"y\"},{\"hovertemplate\":\"character=Archmaester Ebrose<br>x=%{x}<br>y=%{y}<extra></extra>\",\"legendgroup\":\"Archmaester Ebrose\",\"marker\":{\"color\":\"#FFA15A\",\"symbol\":\"circle\"},\"mode\":\"markers\",\"name\":\"Archmaester Ebrose\",\"orientation\":\"v\",\"showlegend\":true,\"type\":\"scatter\",\"x\":[-0.05138134956359863],\"xaxis\":\"x\",\"y\":[-4.365696430206299],\"yaxis\":\"y\"},{\"hovertemplate\":\"character=Eddison Tollett<br>x=%{x}<br>y=%{y}<extra></extra>\",\"legendgroup\":\"Eddison Tollett\",\"marker\":{\"color\":\"#19d3f3\",\"symbol\":\"circle\"},\"mode\":\"markers\",\"name\":\"Eddison Tollett\",\"orientation\":\"v\",\"showlegend\":true,\"type\":\"scatter\",\"x\":[-1.5509392023086548],\"xaxis\":\"x\",\"y\":[-3.2150638103485107],\"yaxis\":\"y\"},{\"hovertemplate\":\"character=Qhorin Halfhand<br>x=%{x}<br>y=%{y}<extra></extra>\",\"legendgroup\":\"Qhorin Halfhand\",\"marker\":{\"color\":\"#FF6692\",\"symbol\":\"circle\"},\"mode\":\"markers\",\"name\":\"Qhorin Halfhand\",\"orientation\":\"v\",\"showlegend\":true,\"type\":\"scatter\",\"x\":[-2.004715919494629],\"xaxis\":\"x\",\"y\":[-2.738076686859131],\"yaxis\":\"y\"},{\"hovertemplate\":\"character=Hizdahr zo Loraq<br>x=%{x}<br>y=%{y}<extra></extra>\",\"legendgroup\":\"Hizdahr zo Loraq\",\"marker\":{\"color\":\"#B6E880\",\"symbol\":\"circle\"},\"mode\":\"markers\",\"name\":\"Hizdahr zo Loraq\",\"orientation\":\"v\",\"showlegend\":true,\"type\":\"scatter\",\"x\":[0.49423420429229736],\"xaxis\":\"x\",\"y\":[-4.9805169105529785],\"yaxis\":\"y\"},{\"hovertemplate\":\"character=Xaro Xhoan Daxos<br>x=%{x}<br>y=%{y}<extra></extra>\",\"legendgroup\":\"Xaro Xhoan Daxos\",\"marker\":{\"color\":\"#FF97FF\",\"symbol\":\"circle\"},\"mode\":\"markers\",\"name\":\"Xaro Xhoan Daxos\",\"orientation\":\"v\",\"showlegend\":true,\"type\":\"scatter\",\"x\":[-1.213803768157959],\"xaxis\":\"x\",\"y\":[-5.524504661560059],\"yaxis\":\"y\"},{\"hovertemplate\":\"character=Balon Greyjoy<br>x=%{x}<br>y=%{y}<extra></extra>\",\"legendgroup\":\"Balon Greyjoy\",\"marker\":{\"color\":\"#FECB52\",\"symbol\":\"circle\"},\"mode\":\"markers\",\"name\":\"Balon Greyjoy\",\"orientation\":\"v\",\"showlegend\":true,\"type\":\"scatter\",\"x\":[-1.5888315439224243],\"xaxis\":\"x\",\"y\":[-4.806175708770752],\"yaxis\":\"y\"},{\"hovertemplate\":\"character=Ellaria Sand<br>x=%{x}<br>y=%{y}<extra></extra>\",\"legendgroup\":\"Ellaria Sand\",\"marker\":{\"color\":\"#636efa\",\"symbol\":\"circle\"},\"mode\":\"markers\",\"name\":\"Ellaria Sand\",\"orientation\":\"v\",\"showlegend\":true,\"type\":\"scatter\",\"x\":[-0.3649587631225586],\"xaxis\":\"x\",\"y\":[-3.984306573867798],\"yaxis\":\"y\"},{\"hovertemplate\":\"character=Ros<br>x=%{x}<br>y=%{y}<extra></extra>\",\"legendgroup\":\"Ros\",\"marker\":{\"color\":\"#EF553B\",\"symbol\":\"circle\"},\"mode\":\"markers\",\"name\":\"Ros\",\"orientation\":\"v\",\"showlegend\":true,\"type\":\"scatter\",\"x\":[-0.5309523344039917],\"xaxis\":\"x\",\"y\":[-2.830094814300537],\"yaxis\":\"y\"},{\"hovertemplate\":\"character=Brynden Tully<br>x=%{x}<br>y=%{y}<extra></extra>\",\"legendgroup\":\"Brynden Tully\",\"marker\":{\"color\":\"#00cc96\",\"symbol\":\"circle\"},\"mode\":\"markers\",\"name\":\"Brynden Tully\",\"orientation\":\"v\",\"showlegend\":true,\"type\":\"scatter\",\"x\":[-0.43909600377082825],\"xaxis\":\"x\",\"y\":[-3.4893946647644043],\"yaxis\":\"y\"},{\"hovertemplate\":\"character=Grenn<br>x=%{x}<br>y=%{y}<extra></extra>\",\"legendgroup\":\"Grenn\",\"marker\":{\"color\":\"#ab63fa\",\"symbol\":\"circle\"},\"mode\":\"markers\",\"name\":\"Grenn\",\"orientation\":\"v\",\"showlegend\":true,\"type\":\"scatter\",\"x\":[-2.436035394668579],\"xaxis\":\"x\",\"y\":[-4.476933479309082],\"yaxis\":\"y\"},{\"hovertemplate\":\"character=Janos Slynt<br>x=%{x}<br>y=%{y}<extra></extra>\",\"legendgroup\":\"Janos Slynt\",\"marker\":{\"color\":\"#FFA15A\",\"symbol\":\"circle\"},\"mode\":\"markers\",\"name\":\"Janos Slynt\",\"orientation\":\"v\",\"showlegend\":true,\"type\":\"scatter\",\"x\":[-1.6099249124526978],\"xaxis\":\"x\",\"y\":[-4.244492053985596],\"yaxis\":\"y\"},{\"hovertemplate\":\"character=Lancel Lannister<br>x=%{x}<br>y=%{y}<extra></extra>\",\"legendgroup\":\"Lancel Lannister\",\"marker\":{\"color\":\"#19d3f3\",\"symbol\":\"circle\"},\"mode\":\"markers\",\"name\":\"Lancel Lannister\",\"orientation\":\"v\",\"showlegend\":true,\"type\":\"scatter\",\"x\":[-0.2722640037536621],\"xaxis\":\"x\",\"y\":[-5.388282299041748],\"yaxis\":\"y\"},{\"hovertemplate\":\"character=Salladhor Saan<br>x=%{x}<br>y=%{y}<extra></extra>\",\"legendgroup\":\"Salladhor Saan\",\"marker\":{\"color\":\"#FF6692\",\"symbol\":\"circle\"},\"mode\":\"markers\",\"name\":\"Salladhor Saan\",\"orientation\":\"v\",\"showlegend\":true,\"type\":\"scatter\",\"x\":[-0.9424390196800232],\"xaxis\":\"x\",\"y\":[-4.875556945800781],\"yaxis\":\"y\"},{\"hovertemplate\":\"character=Locke<br>x=%{x}<br>y=%{y}<extra></extra>\",\"legendgroup\":\"Locke\",\"marker\":{\"color\":\"#B6E880\",\"symbol\":\"circle\"},\"mode\":\"markers\",\"name\":\"Locke\",\"orientation\":\"v\",\"showlegend\":true,\"type\":\"scatter\",\"x\":[-1.3959975242614746],\"xaxis\":\"x\",\"y\":[-3.5648229122161865],\"yaxis\":\"y\"},{\"hovertemplate\":\"character=Brother Ray<br>x=%{x}<br>y=%{y}<extra></extra>\",\"legendgroup\":\"Brother Ray\",\"marker\":{\"color\":\"#FF97FF\",\"symbol\":\"circle\"},\"mode\":\"markers\",\"name\":\"Brother Ray\",\"orientation\":\"v\",\"showlegend\":true,\"type\":\"scatter\",\"x\":[-0.6110659837722778],\"xaxis\":\"x\",\"y\":[-3.587822198867798],\"yaxis\":\"y\"},{\"hovertemplate\":\"character=Meera Reed<br>x=%{x}<br>y=%{y}<extra></extra>\",\"legendgroup\":\"Meera Reed\",\"marker\":{\"color\":\"#FECB52\",\"symbol\":\"circle\"},\"mode\":\"markers\",\"name\":\"Meera Reed\",\"orientation\":\"v\",\"showlegend\":true,\"type\":\"scatter\",\"x\":[-1.6580148935317993],\"xaxis\":\"x\",\"y\":[-6.522735118865967],\"yaxis\":\"y\"},{\"hovertemplate\":\"character=Tycho Nestoris<br>x=%{x}<br>y=%{y}<extra></extra>\",\"legendgroup\":\"Tycho Nestoris\",\"marker\":{\"color\":\"#636efa\",\"symbol\":\"circle\"},\"mode\":\"markers\",\"name\":\"Tycho Nestoris\",\"orientation\":\"v\",\"showlegend\":true,\"type\":\"scatter\",\"x\":[-0.5202848315238953],\"xaxis\":\"x\",\"y\":[-5.204702377319336],\"yaxis\":\"y\"},{\"hovertemplate\":\"character=Edmure Tully<br>x=%{x}<br>y=%{y}<extra></extra>\",\"legendgroup\":\"Edmure Tully\",\"marker\":{\"color\":\"#EF553B\",\"symbol\":\"circle\"},\"mode\":\"markers\",\"name\":\"Edmure Tully\",\"orientation\":\"v\",\"showlegend\":true,\"type\":\"scatter\",\"x\":[-0.44884157180786133],\"xaxis\":\"x\",\"y\":[-3.673487901687622],\"yaxis\":\"y\"},{\"hovertemplate\":\"character=Spice King<br>x=%{x}<br>y=%{y}<extra></extra>\",\"legendgroup\":\"Spice King\",\"marker\":{\"color\":\"#00cc96\",\"symbol\":\"circle\"},\"mode\":\"markers\",\"name\":\"Spice King\",\"orientation\":\"v\",\"showlegend\":true,\"type\":\"scatter\",\"x\":[-0.924669623374939],\"xaxis\":\"x\",\"y\":[-4.777228832244873],\"yaxis\":\"y\"},{\"hovertemplate\":\"character=Benjen Stark<br>x=%{x}<br>y=%{y}<extra></extra>\",\"legendgroup\":\"Benjen Stark\",\"marker\":{\"color\":\"#ab63fa\",\"symbol\":\"circle\"},\"mode\":\"markers\",\"name\":\"Benjen Stark\",\"orientation\":\"v\",\"showlegend\":true,\"type\":\"scatter\",\"x\":[-1.3673465251922607],\"xaxis\":\"x\",\"y\":[-3.700535297393799],\"yaxis\":\"y\"},{\"hovertemplate\":\"character=Craster<br>x=%{x}<br>y=%{y}<extra></extra>\",\"legendgroup\":\"Craster\",\"marker\":{\"color\":\"#FFA15A\",\"symbol\":\"circle\"},\"mode\":\"markers\",\"name\":\"Craster\",\"orientation\":\"v\",\"showlegend\":true,\"type\":\"scatter\",\"x\":[-1.361465573310852],\"xaxis\":\"x\",\"y\":[-3.7025628089904785],\"yaxis\":\"y\"},{\"hovertemplate\":\"character=Lady Crane<br>x=%{x}<br>y=%{y}<extra></extra>\",\"legendgroup\":\"Lady Crane\",\"marker\":{\"color\":\"#19d3f3\",\"symbol\":\"circle\"},\"mode\":\"markers\",\"name\":\"Lady Crane\",\"orientation\":\"v\",\"showlegend\":true,\"type\":\"scatter\",\"x\":[-0.8306971192359924],\"xaxis\":\"x\",\"y\":[-4.042219638824463],\"yaxis\":\"y\"},{\"hovertemplate\":\"character=Jojen Reed<br>x=%{x}<br>y=%{y}<extra></extra>\",\"legendgroup\":\"Jojen Reed\",\"marker\":{\"color\":\"#FF6692\",\"symbol\":\"circle\"},\"mode\":\"markers\",\"name\":\"Jojen Reed\",\"orientation\":\"v\",\"showlegend\":true,\"type\":\"scatter\",\"x\":[-1.6137855052947998],\"xaxis\":\"x\",\"y\":[-4.1832098960876465],\"yaxis\":\"y\"},{\"hovertemplate\":\"character=Randyll Tarly<br>x=%{x}<br>y=%{y}<extra></extra>\",\"legendgroup\":\"Randyll Tarly\",\"marker\":{\"color\":\"#B6E880\",\"symbol\":\"circle\"},\"mode\":\"markers\",\"name\":\"Randyll Tarly\",\"orientation\":\"v\",\"showlegend\":true,\"type\":\"scatter\",\"x\":[-0.7822527289390564],\"xaxis\":\"x\",\"y\":[-4.421346187591553],\"yaxis\":\"y\"},{\"hovertemplate\":\"character=Karl Tanner<br>x=%{x}<br>y=%{y}<extra></extra>\",\"legendgroup\":\"Karl Tanner\",\"marker\":{\"color\":\"#FF97FF\",\"symbol\":\"circle\"},\"mode\":\"markers\",\"name\":\"Karl Tanner\",\"orientation\":\"v\",\"showlegend\":true,\"type\":\"scatter\",\"x\":[-1.7754470109939575],\"xaxis\":\"x\",\"y\":[-3.700305223464966],\"yaxis\":\"y\"},{\"hovertemplate\":\"character=Selyse Baratheon<br>x=%{x}<br>y=%{y}<extra></extra>\",\"legendgroup\":\"Selyse Baratheon\",\"marker\":{\"color\":\"#FECB52\",\"symbol\":\"circle\"},\"mode\":\"markers\",\"name\":\"Selyse Baratheon\",\"orientation\":\"v\",\"showlegend\":true,\"type\":\"scatter\",\"x\":[-0.7923440933227539],\"xaxis\":\"x\",\"y\":[-3.356693983078003],\"yaxis\":\"y\"},{\"hovertemplate\":\"character=Lyanna Mormont<br>x=%{x}<br>y=%{y}<extra></extra>\",\"legendgroup\":\"Lyanna Mormont\",\"marker\":{\"color\":\"#636efa\",\"symbol\":\"circle\"},\"mode\":\"markers\",\"name\":\"Lyanna Mormont\",\"orientation\":\"v\",\"showlegend\":true,\"type\":\"scatter\",\"x\":[-2.3554084300994873],\"xaxis\":\"x\",\"y\":[-5.426666259765625],\"yaxis\":\"y\"},{\"hovertemplate\":\"character=Doran Martell<br>x=%{x}<br>y=%{y}<extra></extra>\",\"legendgroup\":\"Doran Martell\",\"marker\":{\"color\":\"#EF553B\",\"symbol\":\"circle\"},\"mode\":\"markers\",\"name\":\"Doran Martell\",\"orientation\":\"v\",\"showlegend\":true,\"type\":\"scatter\",\"x\":[-0.7899123430252075],\"xaxis\":\"x\",\"y\":[-4.188714981079102],\"yaxis\":\"y\"},{\"hovertemplate\":\"character=Doreah<br>x=%{x}<br>y=%{y}<extra></extra>\",\"legendgroup\":\"Doreah\",\"marker\":{\"color\":\"#00cc96\",\"symbol\":\"circle\"},\"mode\":\"markers\",\"name\":\"Doreah\",\"orientation\":\"v\",\"showlegend\":true,\"type\":\"scatter\",\"x\":[-1.2940412759780884],\"xaxis\":\"x\",\"y\":[-5.757957935333252],\"yaxis\":\"y\"},{\"hovertemplate\":\"character=Yohn Royce<br>x=%{x}<br>y=%{y}<extra></extra>\",\"legendgroup\":\"Yohn Royce\",\"marker\":{\"color\":\"#ab63fa\",\"symbol\":\"circle\"},\"mode\":\"markers\",\"name\":\"Yohn Royce\",\"orientation\":\"v\",\"showlegend\":true,\"type\":\"scatter\",\"x\":[-1.0666064023971558],\"xaxis\":\"x\",\"y\":[-4.230533599853516],\"yaxis\":\"y\"},{\"hovertemplate\":\"character=Myranda<br>x=%{x}<br>y=%{y}<extra></extra>\",\"legendgroup\":\"Myranda\",\"marker\":{\"color\":\"#FFA15A\",\"symbol\":\"circle\"},\"mode\":\"markers\",\"name\":\"Myranda\",\"orientation\":\"v\",\"showlegend\":true,\"type\":\"scatter\",\"x\":[-0.3779645562171936],\"xaxis\":\"x\",\"y\":[-4.269921779632568],\"yaxis\":\"y\"},{\"hovertemplate\":\"character=Rickard Karstark<br>x=%{x}<br>y=%{y}<extra></extra>\",\"legendgroup\":\"Rickard Karstark\",\"marker\":{\"color\":\"#19d3f3\",\"symbol\":\"circle\"},\"mode\":\"markers\",\"name\":\"Rickard Karstark\",\"orientation\":\"v\",\"showlegend\":true,\"type\":\"scatter\",\"x\":[-2.0990705490112305],\"xaxis\":\"x\",\"y\":[-5.371230125427246],\"yaxis\":\"y\"},{\"hovertemplate\":\"character=Syrio Forel<br>x=%{x}<br>y=%{y}<extra></extra>\",\"legendgroup\":\"Syrio Forel\",\"marker\":{\"color\":\"#FF6692\",\"symbol\":\"circle\"},\"mode\":\"markers\",\"name\":\"Syrio Forel\",\"orientation\":\"v\",\"showlegend\":true,\"type\":\"scatter\",\"x\":[-1.1867960691452026],\"xaxis\":\"x\",\"y\":[-4.705466270446777],\"yaxis\":\"y\"},{\"hovertemplate\":\"character=Kevan Lannister<br>x=%{x}<br>y=%{y}<extra></extra>\",\"legendgroup\":\"Kevan Lannister\",\"marker\":{\"color\":\"#B6E880\",\"symbol\":\"circle\"},\"mode\":\"markers\",\"name\":\"Kevan Lannister\",\"orientation\":\"v\",\"showlegend\":true,\"type\":\"scatter\",\"x\":[-0.8837090730667114],\"xaxis\":\"x\",\"y\":[-4.583773612976074],\"yaxis\":\"y\"},{\"hovertemplate\":\"character=Mace Tyrell<br>x=%{x}<br>y=%{y}<extra></extra>\",\"legendgroup\":\"Mace Tyrell\",\"marker\":{\"color\":\"#FF97FF\",\"symbol\":\"circle\"},\"mode\":\"markers\",\"name\":\"Mace Tyrell\",\"orientation\":\"v\",\"showlegend\":true,\"type\":\"scatter\",\"x\":[-0.7668992280960083],\"xaxis\":\"x\",\"y\":[-5.137548446655273],\"yaxis\":\"y\"},{\"hovertemplate\":\"character=Pypar<br>x=%{x}<br>y=%{y}<extra></extra>\",\"legendgroup\":\"Pypar\",\"marker\":{\"color\":\"#FECB52\",\"symbol\":\"circle\"},\"mode\":\"markers\",\"name\":\"Pypar\",\"orientation\":\"v\",\"showlegend\":true,\"type\":\"scatter\",\"x\":[-1.5999655723571777],\"xaxis\":\"x\",\"y\":[-4.29357385635376],\"yaxis\":\"y\"}],                        {\"legend\":{\"title\":{\"text\":\"character\"},\"tracegroupgap\":0},\"margin\":{\"t\":60},\"template\":{\"data\":{\"bar\":[{\"error_x\":{\"color\":\"#2a3f5f\"},\"error_y\":{\"color\":\"#2a3f5f\"},\"marker\":{\"line\":{\"color\":\"#E5ECF6\",\"width\":0.5},\"pattern\":{\"fillmode\":\"overlay\",\"size\":10,\"solidity\":0.2}},\"type\":\"bar\"}],\"barpolar\":[{\"marker\":{\"line\":{\"color\":\"#E5ECF6\",\"width\":0.5},\"pattern\":{\"fillmode\":\"overlay\",\"size\":10,\"solidity\":0.2}},\"type\":\"barpolar\"}],\"carpet\":[{\"aaxis\":{\"endlinecolor\":\"#2a3f5f\",\"gridcolor\":\"white\",\"linecolor\":\"white\",\"minorgridcolor\":\"white\",\"startlinecolor\":\"#2a3f5f\"},\"baxis\":{\"endlinecolor\":\"#2a3f5f\",\"gridcolor\":\"white\",\"linecolor\":\"white\",\"minorgridcolor\":\"white\",\"startlinecolor\":\"#2a3f5f\"},\"type\":\"carpet\"}],\"choropleth\":[{\"colorbar\":{\"outlinewidth\":0,\"ticks\":\"\"},\"type\":\"choropleth\"}],\"contour\":[{\"colorbar\":{\"outlinewidth\":0,\"ticks\":\"\"},\"colorscale\":[[0.0,\"#0d0887\"],[0.1111111111111111,\"#46039f\"],[0.2222222222222222,\"#7201a8\"],[0.3333333333333333,\"#9c179e\"],[0.4444444444444444,\"#bd3786\"],[0.5555555555555556,\"#d8576b\"],[0.6666666666666666,\"#ed7953\"],[0.7777777777777778,\"#fb9f3a\"],[0.8888888888888888,\"#fdca26\"],[1.0,\"#f0f921\"]],\"type\":\"contour\"}],\"contourcarpet\":[{\"colorbar\":{\"outlinewidth\":0,\"ticks\":\"\"},\"type\":\"contourcarpet\"}],\"heatmap\":[{\"colorbar\":{\"outlinewidth\":0,\"ticks\":\"\"},\"colorscale\":[[0.0,\"#0d0887\"],[0.1111111111111111,\"#46039f\"],[0.2222222222222222,\"#7201a8\"],[0.3333333333333333,\"#9c179e\"],[0.4444444444444444,\"#bd3786\"],[0.5555555555555556,\"#d8576b\"],[0.6666666666666666,\"#ed7953\"],[0.7777777777777778,\"#fb9f3a\"],[0.8888888888888888,\"#fdca26\"],[1.0,\"#f0f921\"]],\"type\":\"heatmap\"}],\"heatmapgl\":[{\"colorbar\":{\"outlinewidth\":0,\"ticks\":\"\"},\"colorscale\":[[0.0,\"#0d0887\"],[0.1111111111111111,\"#46039f\"],[0.2222222222222222,\"#7201a8\"],[0.3333333333333333,\"#9c179e\"],[0.4444444444444444,\"#bd3786\"],[0.5555555555555556,\"#d8576b\"],[0.6666666666666666,\"#ed7953\"],[0.7777777777777778,\"#fb9f3a\"],[0.8888888888888888,\"#fdca26\"],[1.0,\"#f0f921\"]],\"type\":\"heatmapgl\"}],\"histogram\":[{\"marker\":{\"pattern\":{\"fillmode\":\"overlay\",\"size\":10,\"solidity\":0.2}},\"type\":\"histogram\"}],\"histogram2d\":[{\"colorbar\":{\"outlinewidth\":0,\"ticks\":\"\"},\"colorscale\":[[0.0,\"#0d0887\"],[0.1111111111111111,\"#46039f\"],[0.2222222222222222,\"#7201a8\"],[0.3333333333333333,\"#9c179e\"],[0.4444444444444444,\"#bd3786\"],[0.5555555555555556,\"#d8576b\"],[0.6666666666666666,\"#ed7953\"],[0.7777777777777778,\"#fb9f3a\"],[0.8888888888888888,\"#fdca26\"],[1.0,\"#f0f921\"]],\"type\":\"histogram2d\"}],\"histogram2dcontour\":[{\"colorbar\":{\"outlinewidth\":0,\"ticks\":\"\"},\"colorscale\":[[0.0,\"#0d0887\"],[0.1111111111111111,\"#46039f\"],[0.2222222222222222,\"#7201a8\"],[0.3333333333333333,\"#9c179e\"],[0.4444444444444444,\"#bd3786\"],[0.5555555555555556,\"#d8576b\"],[0.6666666666666666,\"#ed7953\"],[0.7777777777777778,\"#fb9f3a\"],[0.8888888888888888,\"#fdca26\"],[1.0,\"#f0f921\"]],\"type\":\"histogram2dcontour\"}],\"mesh3d\":[{\"colorbar\":{\"outlinewidth\":0,\"ticks\":\"\"},\"type\":\"mesh3d\"}],\"parcoords\":[{\"line\":{\"colorbar\":{\"outlinewidth\":0,\"ticks\":\"\"}},\"type\":\"parcoords\"}],\"pie\":[{\"automargin\":true,\"type\":\"pie\"}],\"scatter\":[{\"marker\":{\"colorbar\":{\"outlinewidth\":0,\"ticks\":\"\"}},\"type\":\"scatter\"}],\"scatter3d\":[{\"line\":{\"colorbar\":{\"outlinewidth\":0,\"ticks\":\"\"}},\"marker\":{\"colorbar\":{\"outlinewidth\":0,\"ticks\":\"\"}},\"type\":\"scatter3d\"}],\"scattercarpet\":[{\"marker\":{\"colorbar\":{\"outlinewidth\":0,\"ticks\":\"\"}},\"type\":\"scattercarpet\"}],\"scattergeo\":[{\"marker\":{\"colorbar\":{\"outlinewidth\":0,\"ticks\":\"\"}},\"type\":\"scattergeo\"}],\"scattergl\":[{\"marker\":{\"colorbar\":{\"outlinewidth\":0,\"ticks\":\"\"}},\"type\":\"scattergl\"}],\"scattermapbox\":[{\"marker\":{\"colorbar\":{\"outlinewidth\":0,\"ticks\":\"\"}},\"type\":\"scattermapbox\"}],\"scatterpolar\":[{\"marker\":{\"colorbar\":{\"outlinewidth\":0,\"ticks\":\"\"}},\"type\":\"scatterpolar\"}],\"scatterpolargl\":[{\"marker\":{\"colorbar\":{\"outlinewidth\":0,\"ticks\":\"\"}},\"type\":\"scatterpolargl\"}],\"scatterternary\":[{\"marker\":{\"colorbar\":{\"outlinewidth\":0,\"ticks\":\"\"}},\"type\":\"scatterternary\"}],\"surface\":[{\"colorbar\":{\"outlinewidth\":0,\"ticks\":\"\"},\"colorscale\":[[0.0,\"#0d0887\"],[0.1111111111111111,\"#46039f\"],[0.2222222222222222,\"#7201a8\"],[0.3333333333333333,\"#9c179e\"],[0.4444444444444444,\"#bd3786\"],[0.5555555555555556,\"#d8576b\"],[0.6666666666666666,\"#ed7953\"],[0.7777777777777778,\"#fb9f3a\"],[0.8888888888888888,\"#fdca26\"],[1.0,\"#f0f921\"]],\"type\":\"surface\"}],\"table\":[{\"cells\":{\"fill\":{\"color\":\"#EBF0F8\"},\"line\":{\"color\":\"white\"}},\"header\":{\"fill\":{\"color\":\"#C8D4E3\"},\"line\":{\"color\":\"white\"}},\"type\":\"table\"}]},\"layout\":{\"annotationdefaults\":{\"arrowcolor\":\"#2a3f5f\",\"arrowhead\":0,\"arrowwidth\":1},\"autotypenumbers\":\"strict\",\"coloraxis\":{\"colorbar\":{\"outlinewidth\":0,\"ticks\":\"\"}},\"colorscale\":{\"diverging\":[[0,\"#8e0152\"],[0.1,\"#c51b7d\"],[0.2,\"#de77ae\"],[0.3,\"#f1b6da\"],[0.4,\"#fde0ef\"],[0.5,\"#f7f7f7\"],[0.6,\"#e6f5d0\"],[0.7,\"#b8e186\"],[0.8,\"#7fbc41\"],[0.9,\"#4d9221\"],[1,\"#276419\"]],\"sequential\":[[0.0,\"#0d0887\"],[0.1111111111111111,\"#46039f\"],[0.2222222222222222,\"#7201a8\"],[0.3333333333333333,\"#9c179e\"],[0.4444444444444444,\"#bd3786\"],[0.5555555555555556,\"#d8576b\"],[0.6666666666666666,\"#ed7953\"],[0.7777777777777778,\"#fb9f3a\"],[0.8888888888888888,\"#fdca26\"],[1.0,\"#f0f921\"]],\"sequentialminus\":[[0.0,\"#0d0887\"],[0.1111111111111111,\"#46039f\"],[0.2222222222222222,\"#7201a8\"],[0.3333333333333333,\"#9c179e\"],[0.4444444444444444,\"#bd3786\"],[0.5555555555555556,\"#d8576b\"],[0.6666666666666666,\"#ed7953\"],[0.7777777777777778,\"#fb9f3a\"],[0.8888888888888888,\"#fdca26\"],[1.0,\"#f0f921\"]]},\"colorway\":[\"#636efa\",\"#EF553B\",\"#00cc96\",\"#ab63fa\",\"#FFA15A\",\"#19d3f3\",\"#FF6692\",\"#B6E880\",\"#FF97FF\",\"#FECB52\"],\"font\":{\"color\":\"#2a3f5f\"},\"geo\":{\"bgcolor\":\"white\",\"lakecolor\":\"white\",\"landcolor\":\"#E5ECF6\",\"showlakes\":true,\"showland\":true,\"subunitcolor\":\"white\"},\"hoverlabel\":{\"align\":\"left\"},\"hovermode\":\"closest\",\"mapbox\":{\"style\":\"light\"},\"paper_bgcolor\":\"white\",\"plot_bgcolor\":\"#E5ECF6\",\"polar\":{\"angularaxis\":{\"gridcolor\":\"white\",\"linecolor\":\"white\",\"ticks\":\"\"},\"bgcolor\":\"#E5ECF6\",\"radialaxis\":{\"gridcolor\":\"white\",\"linecolor\":\"white\",\"ticks\":\"\"}},\"scene\":{\"xaxis\":{\"backgroundcolor\":\"#E5ECF6\",\"gridcolor\":\"white\",\"gridwidth\":2,\"linecolor\":\"white\",\"showbackground\":true,\"ticks\":\"\",\"zerolinecolor\":\"white\"},\"yaxis\":{\"backgroundcolor\":\"#E5ECF6\",\"gridcolor\":\"white\",\"gridwidth\":2,\"linecolor\":\"white\",\"showbackground\":true,\"ticks\":\"\",\"zerolinecolor\":\"white\"},\"zaxis\":{\"backgroundcolor\":\"#E5ECF6\",\"gridcolor\":\"white\",\"gridwidth\":2,\"linecolor\":\"white\",\"showbackground\":true,\"ticks\":\"\",\"zerolinecolor\":\"white\"}},\"shapedefaults\":{\"line\":{\"color\":\"#2a3f5f\"}},\"ternary\":{\"aaxis\":{\"gridcolor\":\"white\",\"linecolor\":\"white\",\"ticks\":\"\"},\"baxis\":{\"gridcolor\":\"white\",\"linecolor\":\"white\",\"ticks\":\"\"},\"bgcolor\":\"#E5ECF6\",\"caxis\":{\"gridcolor\":\"white\",\"linecolor\":\"white\",\"ticks\":\"\"}},\"title\":{\"x\":0.05},\"xaxis\":{\"automargin\":true,\"gridcolor\":\"white\",\"linecolor\":\"white\",\"ticks\":\"\",\"title\":{\"standoff\":15},\"zerolinecolor\":\"white\",\"zerolinewidth\":2},\"yaxis\":{\"automargin\":true,\"gridcolor\":\"white\",\"linecolor\":\"white\",\"ticks\":\"\",\"title\":{\"standoff\":15},\"zerolinecolor\":\"white\",\"zerolinewidth\":2}}},\"xaxis\":{\"anchor\":\"y\",\"domain\":[0.0,1.0],\"title\":{\"text\":\"x\"}},\"yaxis\":{\"anchor\":\"x\",\"domain\":[0.0,1.0],\"title\":{\"text\":\"y\"}}},                        {\"responsive\": true}                    ).then(function(){\n",
       "                            \n",
       "var gd = document.getElementById('ab18e8e5-44dd-4c28-a1a9-b6133490ad87');\n",
       "var x = new MutationObserver(function (mutations, observer) {{\n",
       "        var display = window.getComputedStyle(gd).display;\n",
       "        if (!display || display === 'none') {{\n",
       "            console.log([gd, 'removed!']);\n",
       "            Plotly.purge(gd);\n",
       "            observer.disconnect();\n",
       "        }}\n",
       "}});\n",
       "\n",
       "// Listen for the removal of the full notebook cells\n",
       "var notebookContainer = gd.closest('#notebook-container');\n",
       "if (notebookContainer) {{\n",
       "    x.observe(notebookContainer, {childList: true});\n",
       "}}\n",
       "\n",
       "// Listen for the clearing of the current output cell\n",
       "var outputEl = gd.closest('.output');\n",
       "if (outputEl) {{\n",
       "    x.observe(outputEl, {childList: true});\n",
       "}}\n",
       "\n",
       "                        })                };                });            </script>        </div>"
      ]
     },
     "metadata": {},
     "output_type": "display_data"
    }
   ],
   "source": [
    "import plotly.express as px\n",
    "fig = px.scatter(new_df, x=\"x\", y=\"y\", color=\"character\")\n",
    "fig.show()"
   ]
  },
  {
   "cell_type": "code",
   "execution_count": 42,
   "metadata": {},
   "outputs": [],
   "source": [
    "import pickle"
   ]
  },
  {
   "cell_type": "code",
   "execution_count": 43,
   "metadata": {},
   "outputs": [],
   "source": [
    "pickle.dump(new_df,open('data.pkl','wb'))"
   ]
  },
  {
   "cell_type": "code",
   "execution_count": null,
   "metadata": {},
   "outputs": [],
   "source": []
  }
 ],
 "metadata": {
  "kernelspec": {
   "display_name": "Python 3",
   "language": "python",
   "name": "python3"
  },
  "language_info": {
   "codemirror_mode": {
    "name": "ipython",
    "version": 3
   },
   "file_extension": ".py",
   "mimetype": "text/x-python",
   "name": "python",
   "nbconvert_exporter": "python",
   "pygments_lexer": "ipython3",
   "version": "3.8.5"
  }
 },
 "nbformat": 4,
 "nbformat_minor": 4
}
